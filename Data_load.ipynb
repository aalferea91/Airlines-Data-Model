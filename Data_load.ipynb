{
 "cells": [
  {
   "cell_type": "code",
   "execution_count": 201,
   "id": "362e6bba-a564-455e-aed6-b0cfcf8d0ef7",
   "metadata": {},
   "outputs": [],
   "source": [
    "import os\n",
    "import pandas as pd\n",
    "import sqlalchemy\n",
    "from sqlalchemy import create_engine\n",
    "from snowflake.sqlalchemy import URL"
   ]
  },
  {
   "cell_type": "code",
   "execution_count": 329,
   "id": "da7c9fd9-218e-4d28-a0ef-a6d41ce28c0d",
   "metadata": {},
   "outputs": [],
   "source": [
    "# make sure that the database and the schema with the different tables have been created.\n",
    "# Update the information from the Snowflake account\n",
    "engine = create_engine(URL(\n",
    "        #The account name is in the url to access the Snowflake UI, example: something.snowflakecomputing.com, where \"something\" is the account name.\n",
    "        account=\"sn34773.europe-west2.gcp\",\n",
    "        user=\"AALFEREA91\",\n",
    "        password=\"\",#deleted\n",
    "        role=\"ACCOUNTADMIN\",\n",
    "        warehouse=\"COMPUTE_WH\",\n",
    "        database=\"DW_AERO\",\n",
    "        schema=\"PUBLIC\"\n",
    "    ))"
   ]
  },
  {
   "cell_type": "code",
   "execution_count": 330,
   "id": "9ce00eca-c76d-4d11-9a3a-3c0d7f1faf0e",
   "metadata": {},
   "outputs": [
    {
     "data": {
      "text/plain": [
       "<sqlalchemy.engine.base.Connection at 0x186315e1060>"
      ]
     },
     "execution_count": 330,
     "metadata": {},
     "output_type": "execute_result"
    }
   ],
   "source": [
    "conn = engine.connect()\n",
    "conn"
   ]
  },
  {
   "cell_type": "markdown",
   "id": "1719602f-2188-4245-baac-d503194c9429",
   "metadata": {},
   "source": [
    "# 1. Load the table with countries."
   ]
  },
  {
   "cell_type": "markdown",
   "id": "c7429124-6c4e-4929-8aa0-551427436850",
   "metadata": {},
   "source": [
    "### First import both files in the same dataframe"
   ]
  },
  {
   "cell_type": "code",
   "execution_count": 204,
   "id": "e5094f97-70b9-4b3e-8a87-72ad1100a6f4",
   "metadata": {},
   "outputs": [],
   "source": [
    "urlpaises='input/paises.xls'"
   ]
  },
  {
   "cell_type": "code",
   "execution_count": 205,
   "id": "c99b68d3-41bf-41ea-8c0e-5ec9bf9deab2",
   "metadata": {},
   "outputs": [],
   "source": [
    "urlcountries='input/countries.csv'"
   ]
  },
  {
   "cell_type": "code",
   "execution_count": 206,
   "id": "f4506417-5afa-4d86-b8ac-6251ca0525f7",
   "metadata": {},
   "outputs": [],
   "source": [
    "df_paises=pd.read_excel(urlpaises).merge(pd.read_csv(urlcountries),how='outer',left_on='cod_pais2',right_on='country')"
   ]
  },
  {
   "cell_type": "code",
   "execution_count": 207,
   "id": "be551112-5136-48fb-bab2-8b697e6b3db9",
   "metadata": {},
   "outputs": [
    {
     "data": {
      "text/html": [
       "<div>\n",
       "<style scoped>\n",
       "    .dataframe tbody tr th:only-of-type {\n",
       "        vertical-align: middle;\n",
       "    }\n",
       "\n",
       "    .dataframe tbody tr th {\n",
       "        vertical-align: top;\n",
       "    }\n",
       "\n",
       "    .dataframe thead th {\n",
       "        text-align: right;\n",
       "    }\n",
       "</style>\n",
       "<table border=\"1\" class=\"dataframe\">\n",
       "  <thead>\n",
       "    <tr style=\"text-align: right;\">\n",
       "      <th></th>\n",
       "      <th>cod_pais</th>\n",
       "      <th>cod_pais2</th>\n",
       "      <th>desc_pais</th>\n",
       "      <th>cod_continente</th>\n",
       "      <th>desc_continente</th>\n",
       "      <th>country</th>\n",
       "      <th>latitude</th>\n",
       "      <th>longitude</th>\n",
       "      <th>name</th>\n",
       "    </tr>\n",
       "  </thead>\n",
       "  <tbody>\n",
       "    <tr>\n",
       "      <th>0</th>\n",
       "      <td>AFG</td>\n",
       "      <td>AF</td>\n",
       "      <td>Afghanistan</td>\n",
       "      <td>AS</td>\n",
       "      <td>Asia</td>\n",
       "      <td>AF</td>\n",
       "      <td>33.939110</td>\n",
       "      <td>67.709953</td>\n",
       "      <td>Afghanistan</td>\n",
       "    </tr>\n",
       "    <tr>\n",
       "      <th>1</th>\n",
       "      <td>ALB</td>\n",
       "      <td>AL</td>\n",
       "      <td>Albania</td>\n",
       "      <td>EU</td>\n",
       "      <td>Europe</td>\n",
       "      <td>AL</td>\n",
       "      <td>41.153332</td>\n",
       "      <td>20.168331</td>\n",
       "      <td>Albania</td>\n",
       "    </tr>\n",
       "    <tr>\n",
       "      <th>2</th>\n",
       "      <td>DZA</td>\n",
       "      <td>DZ</td>\n",
       "      <td>Algeria</td>\n",
       "      <td>AF</td>\n",
       "      <td>Africa</td>\n",
       "      <td>DZ</td>\n",
       "      <td>28.033886</td>\n",
       "      <td>1.659626</td>\n",
       "      <td>Algeria</td>\n",
       "    </tr>\n",
       "  </tbody>\n",
       "</table>\n",
       "</div>"
      ],
      "text/plain": [
       "  cod_pais cod_pais2    desc_pais cod_continente desc_continente country  \\\n",
       "0      AFG        AF  Afghanistan             AS            Asia      AF   \n",
       "1      ALB        AL      Albania             EU          Europe      AL   \n",
       "2      DZA        DZ      Algeria             AF          Africa      DZ   \n",
       "\n",
       "    latitude  longitude         name  \n",
       "0  33.939110  67.709953  Afghanistan  \n",
       "1  41.153332  20.168331      Albania  \n",
       "2  28.033886   1.659626      Algeria  "
      ]
     },
     "execution_count": 207,
     "metadata": {},
     "output_type": "execute_result"
    }
   ],
   "source": [
    "df_paises.head(3)"
   ]
  },
  {
   "cell_type": "markdown",
   "id": "8914fb82-0c6e-4e82-b080-4df05f400169",
   "metadata": {},
   "source": [
    "### Now let's check the Null values"
   ]
  },
  {
   "cell_type": "code",
   "execution_count": 208,
   "id": "d313b457-d704-4692-9667-2b8ea724784b",
   "metadata": {},
   "outputs": [
    {
     "data": {
      "text/plain": [
       "cod_pais            2\n",
       "cod_pais2           2\n",
       "desc_pais           2\n",
       "cod_continente     38\n",
       "desc_continente     2\n",
       "country             1\n",
       "latitude            2\n",
       "longitude           2\n",
       "name                1\n",
       "dtype: int64"
      ]
     },
     "execution_count": 208,
     "metadata": {},
     "output_type": "execute_result"
    }
   ],
   "source": [
    "df_paises.isnull().sum()"
   ]
  },
  {
   "cell_type": "code",
   "execution_count": 209,
   "id": "c9104f2a-54d0-46d9-af34-c6d817dd452d",
   "metadata": {},
   "outputs": [
    {
     "data": {
      "text/html": [
       "<div>\n",
       "<style scoped>\n",
       "    .dataframe tbody tr th:only-of-type {\n",
       "        vertical-align: middle;\n",
       "    }\n",
       "\n",
       "    .dataframe tbody tr th {\n",
       "        vertical-align: top;\n",
       "    }\n",
       "\n",
       "    .dataframe thead th {\n",
       "        text-align: right;\n",
       "    }\n",
       "</style>\n",
       "<table border=\"1\" class=\"dataframe\">\n",
       "  <thead>\n",
       "    <tr style=\"text-align: right;\">\n",
       "      <th></th>\n",
       "      <th>cod_pais</th>\n",
       "      <th>cod_pais2</th>\n",
       "      <th>desc_pais</th>\n",
       "      <th>cod_continente</th>\n",
       "      <th>desc_continente</th>\n",
       "      <th>country</th>\n",
       "      <th>latitude</th>\n",
       "      <th>longitude</th>\n",
       "      <th>name</th>\n",
       "    </tr>\n",
       "  </thead>\n",
       "  <tbody>\n",
       "    <tr>\n",
       "      <th>245</th>\n",
       "      <td>NaN</td>\n",
       "      <td>NaN</td>\n",
       "      <td>NaN</td>\n",
       "      <td>NaN</td>\n",
       "      <td>NaN</td>\n",
       "      <td>GZ</td>\n",
       "      <td>31.354676</td>\n",
       "      <td>34.308825</td>\n",
       "      <td>Gaza Strip</td>\n",
       "    </tr>\n",
       "    <tr>\n",
       "      <th>246</th>\n",
       "      <td>NaN</td>\n",
       "      <td>NaN</td>\n",
       "      <td>NaN</td>\n",
       "      <td>NaN</td>\n",
       "      <td>NaN</td>\n",
       "      <td>XK</td>\n",
       "      <td>42.602636</td>\n",
       "      <td>20.902977</td>\n",
       "      <td>Kosovo</td>\n",
       "    </tr>\n",
       "  </tbody>\n",
       "</table>\n",
       "</div>"
      ],
      "text/plain": [
       "    cod_pais cod_pais2 desc_pais cod_continente desc_continente country  \\\n",
       "245      NaN       NaN       NaN            NaN             NaN      GZ   \n",
       "246      NaN       NaN       NaN            NaN             NaN      XK   \n",
       "\n",
       "      latitude  longitude        name  \n",
       "245  31.354676  34.308825  Gaza Strip  \n",
       "246  42.602636  20.902977      Kosovo  "
      ]
     },
     "execution_count": 209,
     "metadata": {},
     "output_type": "execute_result"
    }
   ],
   "source": [
    "df_paises[df_paises['cod_pais'].isnull()]"
   ]
  },
  {
   "cell_type": "code",
   "execution_count": 210,
   "id": "93673748-750d-40dd-8604-f4535086a2a6",
   "metadata": {},
   "outputs": [],
   "source": [
    "df_paises.iloc[245,[0,1,2,3,4]]=['GAZ','GZ','Gaza','AS','Asia']"
   ]
  },
  {
   "cell_type": "code",
   "execution_count": 211,
   "id": "fe2539f7-5224-46a9-8790-2099f5d2ed03",
   "metadata": {},
   "outputs": [],
   "source": [
    "df_paises.iloc[246,[0,1,2,3,4]]=['XKX','XK','Kosovo','EU','Europe']"
   ]
  },
  {
   "cell_type": "code",
   "execution_count": 212,
   "id": "9b3292a5-7005-45a6-8cfa-f151adcb8371",
   "metadata": {
    "tags": []
   },
   "outputs": [],
   "source": [
    "indexes_wrong_continent=df_paises[df_paises['cod_continente'].isnull()].index"
   ]
  },
  {
   "cell_type": "code",
   "execution_count": 213,
   "id": "2171a49e-2d22-4296-b0c8-ae9c1ddb5bb8",
   "metadata": {},
   "outputs": [],
   "source": [
    "df_paises.iloc[indexes_wrong_continent,3]='NA'"
   ]
  },
  {
   "cell_type": "code",
   "execution_count": 214,
   "id": "92355251-54c4-4608-ad5a-4039f5ee083e",
   "metadata": {},
   "outputs": [
    {
     "data": {
      "text/plain": [
       "cod_pais           0\n",
       "cod_pais2          0\n",
       "desc_pais          0\n",
       "cod_continente     0\n",
       "desc_continente    0\n",
       "country            1\n",
       "latitude           2\n",
       "longitude          2\n",
       "name               1\n",
       "dtype: int64"
      ]
     },
     "execution_count": 214,
     "metadata": {},
     "output_type": "execute_result"
    }
   ],
   "source": [
    "df_paises.isnull().sum()"
   ]
  },
  {
   "cell_type": "code",
   "execution_count": 215,
   "id": "a252d069-931b-44e5-a91a-3b19da8f46a4",
   "metadata": {},
   "outputs": [
    {
     "data": {
      "text/html": [
       "<div>\n",
       "<style scoped>\n",
       "    .dataframe tbody tr th:only-of-type {\n",
       "        vertical-align: middle;\n",
       "    }\n",
       "\n",
       "    .dataframe tbody tr th {\n",
       "        vertical-align: top;\n",
       "    }\n",
       "\n",
       "    .dataframe thead th {\n",
       "        text-align: right;\n",
       "    }\n",
       "</style>\n",
       "<table border=\"1\" class=\"dataframe\">\n",
       "  <thead>\n",
       "    <tr style=\"text-align: right;\">\n",
       "      <th></th>\n",
       "      <th>cod_pais</th>\n",
       "      <th>cod_pais2</th>\n",
       "      <th>desc_pais</th>\n",
       "      <th>cod_continente</th>\n",
       "      <th>desc_continente</th>\n",
       "      <th>country</th>\n",
       "      <th>latitude</th>\n",
       "      <th>longitude</th>\n",
       "      <th>name</th>\n",
       "    </tr>\n",
       "  </thead>\n",
       "  <tbody>\n",
       "    <tr>\n",
       "      <th>244</th>\n",
       "      <td>Z99</td>\n",
       "      <td>Z9</td>\n",
       "      <td>desconocido</td>\n",
       "      <td>Z9</td>\n",
       "      <td>desconocido</td>\n",
       "      <td>NaN</td>\n",
       "      <td>NaN</td>\n",
       "      <td>NaN</td>\n",
       "      <td>NaN</td>\n",
       "    </tr>\n",
       "  </tbody>\n",
       "</table>\n",
       "</div>"
      ],
      "text/plain": [
       "    cod_pais cod_pais2    desc_pais cod_continente desc_continente country  \\\n",
       "244      Z99        Z9  desconocido             Z9     desconocido     NaN   \n",
       "\n",
       "     latitude  longitude name  \n",
       "244       NaN        NaN  NaN  "
      ]
     },
     "execution_count": 215,
     "metadata": {},
     "output_type": "execute_result"
    }
   ],
   "source": [
    "df_paises[df_paises['country'].isnull()]"
   ]
  },
  {
   "cell_type": "code",
   "execution_count": 216,
   "id": "827cf90d-724d-4357-8934-10fd5f5aaa27",
   "metadata": {},
   "outputs": [],
   "source": [
    "df_paises.iloc[244,[5,8]]=['Z9','desconocido']"
   ]
  },
  {
   "cell_type": "code",
   "execution_count": 217,
   "id": "ecf41647-c524-4b30-aca1-e08d7684d7a9",
   "metadata": {},
   "outputs": [
    {
     "data": {
      "text/html": [
       "<div>\n",
       "<style scoped>\n",
       "    .dataframe tbody tr th:only-of-type {\n",
       "        vertical-align: middle;\n",
       "    }\n",
       "\n",
       "    .dataframe tbody tr th {\n",
       "        vertical-align: top;\n",
       "    }\n",
       "\n",
       "    .dataframe thead th {\n",
       "        text-align: right;\n",
       "    }\n",
       "</style>\n",
       "<table border=\"1\" class=\"dataframe\">\n",
       "  <thead>\n",
       "    <tr style=\"text-align: right;\">\n",
       "      <th></th>\n",
       "      <th>cod_pais</th>\n",
       "      <th>cod_pais2</th>\n",
       "      <th>desc_pais</th>\n",
       "      <th>cod_continente</th>\n",
       "      <th>desc_continente</th>\n",
       "      <th>country</th>\n",
       "      <th>latitude</th>\n",
       "      <th>longitude</th>\n",
       "      <th>name</th>\n",
       "    </tr>\n",
       "  </thead>\n",
       "  <tbody>\n",
       "    <tr>\n",
       "      <th>231</th>\n",
       "      <td>UMI</td>\n",
       "      <td>UM</td>\n",
       "      <td>United States Minor Outlying Islands</td>\n",
       "      <td>OC</td>\n",
       "      <td>Oceania</td>\n",
       "      <td>UM</td>\n",
       "      <td>NaN</td>\n",
       "      <td>NaN</td>\n",
       "      <td>U.S. Minor Outlying Islands</td>\n",
       "    </tr>\n",
       "    <tr>\n",
       "      <th>244</th>\n",
       "      <td>Z99</td>\n",
       "      <td>Z9</td>\n",
       "      <td>desconocido</td>\n",
       "      <td>Z9</td>\n",
       "      <td>desconocido</td>\n",
       "      <td>Z9</td>\n",
       "      <td>NaN</td>\n",
       "      <td>NaN</td>\n",
       "      <td>desconocido</td>\n",
       "    </tr>\n",
       "  </tbody>\n",
       "</table>\n",
       "</div>"
      ],
      "text/plain": [
       "    cod_pais cod_pais2                             desc_pais cod_continente  \\\n",
       "231      UMI        UM  United States Minor Outlying Islands             OC   \n",
       "244      Z99        Z9                           desconocido             Z9   \n",
       "\n",
       "    desc_continente country  latitude  longitude                         name  \n",
       "231         Oceania      UM       NaN        NaN  U.S. Minor Outlying Islands  \n",
       "244     desconocido      Z9       NaN        NaN                  desconocido  "
      ]
     },
     "execution_count": 217,
     "metadata": {},
     "output_type": "execute_result"
    }
   ],
   "source": [
    "df_paises[df_paises['latitude'].isnull()]"
   ]
  },
  {
   "cell_type": "code",
   "execution_count": 218,
   "id": "bbbe7c27-d232-4c95-b6bd-0a4b0d7b52d7",
   "metadata": {},
   "outputs": [],
   "source": [
    "df_paises.iloc[231,[6,7]]=[19.2823,166.6470]"
   ]
  },
  {
   "cell_type": "markdown",
   "id": "3aa01386-62f2-4a05-abf2-b738e2627726",
   "metadata": {},
   "source": [
    "### Now let's check the duplicates"
   ]
  },
  {
   "cell_type": "code",
   "execution_count": 219,
   "id": "4c4ed627-1e9c-43ee-a402-be4703d11ad4",
   "metadata": {},
   "outputs": [
    {
     "data": {
      "text/html": [
       "<div>\n",
       "<style scoped>\n",
       "    .dataframe tbody tr th:only-of-type {\n",
       "        vertical-align: middle;\n",
       "    }\n",
       "\n",
       "    .dataframe tbody tr th {\n",
       "        vertical-align: top;\n",
       "    }\n",
       "\n",
       "    .dataframe thead th {\n",
       "        text-align: right;\n",
       "    }\n",
       "</style>\n",
       "<table border=\"1\" class=\"dataframe\">\n",
       "  <thead>\n",
       "    <tr style=\"text-align: right;\">\n",
       "      <th></th>\n",
       "      <th>cod_pais</th>\n",
       "      <th>cod_pais2</th>\n",
       "      <th>desc_pais</th>\n",
       "      <th>cod_continente</th>\n",
       "      <th>desc_continente</th>\n",
       "      <th>country</th>\n",
       "      <th>latitude</th>\n",
       "      <th>longitude</th>\n",
       "      <th>name</th>\n",
       "    </tr>\n",
       "  </thead>\n",
       "  <tbody>\n",
       "    <tr>\n",
       "      <th>135</th>\n",
       "      <td>MLT</td>\n",
       "      <td>MT</td>\n",
       "      <td>Malta</td>\n",
       "      <td>EU</td>\n",
       "      <td>Europe</td>\n",
       "      <td>MT</td>\n",
       "      <td>35.937496</td>\n",
       "      <td>14.375416</td>\n",
       "      <td>Malta</td>\n",
       "    </tr>\n",
       "    <tr>\n",
       "      <th>136</th>\n",
       "      <td>MLT</td>\n",
       "      <td>MT</td>\n",
       "      <td>Malta</td>\n",
       "      <td>EU</td>\n",
       "      <td>Europe</td>\n",
       "      <td>MT</td>\n",
       "      <td>35.937496</td>\n",
       "      <td>14.375416</td>\n",
       "      <td>Malta</td>\n",
       "    </tr>\n",
       "  </tbody>\n",
       "</table>\n",
       "</div>"
      ],
      "text/plain": [
       "    cod_pais cod_pais2 desc_pais cod_continente desc_continente country  \\\n",
       "135      MLT        MT     Malta             EU          Europe      MT   \n",
       "136      MLT        MT     Malta             EU          Europe      MT   \n",
       "\n",
       "      latitude  longitude   name  \n",
       "135  35.937496  14.375416  Malta  \n",
       "136  35.937496  14.375416  Malta  "
      ]
     },
     "execution_count": 219,
     "metadata": {},
     "output_type": "execute_result"
    }
   ],
   "source": [
    "df_paises[df_paises.duplicated(subset='cod_pais',keep=False)]"
   ]
  },
  {
   "cell_type": "code",
   "execution_count": 220,
   "id": "82f89725-035e-4a06-bce2-44621e3a7615",
   "metadata": {},
   "outputs": [],
   "source": [
    "df_paises.drop_duplicates(inplace=True)"
   ]
  },
  {
   "cell_type": "code",
   "execution_count": 221,
   "id": "8a789184-2943-4ea3-9b7c-681825bb17ab",
   "metadata": {},
   "outputs": [
    {
     "data": {
      "text/html": [
       "<div>\n",
       "<style scoped>\n",
       "    .dataframe tbody tr th:only-of-type {\n",
       "        vertical-align: middle;\n",
       "    }\n",
       "\n",
       "    .dataframe tbody tr th {\n",
       "        vertical-align: top;\n",
       "    }\n",
       "\n",
       "    .dataframe thead th {\n",
       "        text-align: right;\n",
       "    }\n",
       "</style>\n",
       "<table border=\"1\" class=\"dataframe\">\n",
       "  <thead>\n",
       "    <tr style=\"text-align: right;\">\n",
       "      <th></th>\n",
       "      <th>cod_pais</th>\n",
       "      <th>cod_pais2</th>\n",
       "      <th>desc_pais</th>\n",
       "      <th>cod_continente</th>\n",
       "      <th>desc_continente</th>\n",
       "      <th>country</th>\n",
       "      <th>latitude</th>\n",
       "      <th>longitude</th>\n",
       "      <th>name</th>\n",
       "    </tr>\n",
       "  </thead>\n",
       "  <tbody>\n",
       "  </tbody>\n",
       "</table>\n",
       "</div>"
      ],
      "text/plain": [
       "Empty DataFrame\n",
       "Columns: [cod_pais, cod_pais2, desc_pais, cod_continente, desc_continente, country, latitude, longitude, name]\n",
       "Index: []"
      ]
     },
     "execution_count": 221,
     "metadata": {},
     "output_type": "execute_result"
    }
   ],
   "source": [
    "df_paises[df_paises.duplicated(subset='cod_pais',keep=False)]"
   ]
  },
  {
   "cell_type": "markdown",
   "id": "9d1b7a52-ee41-47c5-b981-a41c465d9362",
   "metadata": {},
   "source": [
    "### Finally we have to format the table with the same format as the destination table in SnowFlake"
   ]
  },
  {
   "cell_type": "code",
   "execution_count": 222,
   "id": "5d4a2378-1a91-4e64-8ea2-dd50480e7b2a",
   "metadata": {},
   "outputs": [],
   "source": [
    "df_paises_final=(\n",
    "    df_paises\n",
    "    .drop(['country','name'],axis=1)\n",
    "    .reindex(columns=['cod_pais','desc_pais','cod_pais2','cod_continente','continente','longitude','latitude'])\n",
    "    .rename(columns={'desc_pais':'pais','longitude':'longitud','latitude':'latitud'})\n",
    ")"
   ]
  },
  {
   "cell_type": "code",
   "execution_count": 223,
   "id": "6fb2f5b0-b77e-4cb7-8939-ad39e1737804",
   "metadata": {},
   "outputs": [
    {
     "data": {
      "text/plain": [
       "cod_pais           object\n",
       "pais               object\n",
       "cod_pais2          object\n",
       "cod_continente     object\n",
       "continente        float64\n",
       "longitud          float64\n",
       "latitud           float64\n",
       "dtype: object"
      ]
     },
     "execution_count": 223,
     "metadata": {},
     "output_type": "execute_result"
    }
   ],
   "source": [
    "df_paises_final.dtypes"
   ]
  },
  {
   "cell_type": "markdown",
   "id": "496a4882-e9e4-46f1-906e-db6eb78c6ea3",
   "metadata": {},
   "source": [
    "### At last we load the data into Snowflake"
   ]
  },
  {
   "cell_type": "code",
   "execution_count": 224,
   "id": "db4dccb1-49f5-4c09-be40-e03346f778cd",
   "metadata": {},
   "outputs": [
    {
     "name": "stdout",
     "output_type": "stream",
     "text": [
      "Insertando datos\n",
      "Volcado correcto. Filas cargadas: 246\n"
     ]
    }
   ],
   "source": [
    "try:\n",
    "    print('Insertando datos')\n",
    "    df_paises_final.to_sql('dm_pais', con = conn, if_exists = 'replace', index=False)\n",
    "    rows = len(df_paises_final)\n",
    "    print(\"Volcado correcto. Filas cargadas: \" + str(rows) )\n",
    "except Exception as e:\n",
    "    print(\"Error en el volcado: \" + str(e))"
   ]
  },
  {
   "cell_type": "markdown",
   "id": "3bd8db66-cc16-4dd9-9e3b-761ec530e5cb",
   "metadata": {},
   "source": [
    "# 2. Load the airports table"
   ]
  },
  {
   "cell_type": "code",
   "execution_count": 225,
   "id": "92bcebd2-b786-4490-9acb-93bfad384e41",
   "metadata": {},
   "outputs": [],
   "source": [
    "urlaeropuertos='input/aeropuertos.csv'"
   ]
  },
  {
   "cell_type": "code",
   "execution_count": 226,
   "id": "b1af9353-9a88-4bd3-a29d-72f4a8c6b298",
   "metadata": {},
   "outputs": [],
   "source": [
    "df_aeropuertos=pd.read_csv(urlaeropuertos)"
   ]
  },
  {
   "cell_type": "code",
   "execution_count": 227,
   "id": "98ec644c-ae6d-45cd-897d-be172155450a",
   "metadata": {},
   "outputs": [
    {
     "data": {
      "text/html": [
       "<div>\n",
       "<style scoped>\n",
       "    .dataframe tbody tr th:only-of-type {\n",
       "        vertical-align: middle;\n",
       "    }\n",
       "\n",
       "    .dataframe tbody tr th {\n",
       "        vertical-align: top;\n",
       "    }\n",
       "\n",
       "    .dataframe thead th {\n",
       "        text-align: right;\n",
       "    }\n",
       "</style>\n",
       "<table border=\"1\" class=\"dataframe\">\n",
       "  <thead>\n",
       "    <tr style=\"text-align: right;\">\n",
       "      <th></th>\n",
       "      <th>cod_aeropuerto</th>\n",
       "      <th>cod_pais</th>\n",
       "      <th>nombre_aeropuerto</th>\n",
       "      <th>ciudad_aeropuerto</th>\n",
       "      <th>pais_aeropuerto</th>\n",
       "      <th>cod_iata_faa</th>\n",
       "      <th>cod_icao</th>\n",
       "      <th>latitud</th>\n",
       "      <th>longitud</th>\n",
       "      <th>altitud</th>\n",
       "      <th>zona_horaria</th>\n",
       "      <th>dst</th>\n",
       "      <th>zona_horaria_tz</th>\n",
       "    </tr>\n",
       "  </thead>\n",
       "  <tbody>\n",
       "    <tr>\n",
       "      <th>0</th>\n",
       "      <td>0001</td>\n",
       "      <td>PNG</td>\n",
       "      <td>Goroka</td>\n",
       "      <td>Goroka</td>\n",
       "      <td>Papua New Guinea</td>\n",
       "      <td>GKA</td>\n",
       "      <td>AYGA</td>\n",
       "      <td>-6.081689</td>\n",
       "      <td>145.391881</td>\n",
       "      <td>5282.0</td>\n",
       "      <td>10.0</td>\n",
       "      <td>U</td>\n",
       "      <td>Pacific/Port_Moresby</td>\n",
       "    </tr>\n",
       "    <tr>\n",
       "      <th>1</th>\n",
       "      <td>0002</td>\n",
       "      <td>PNG</td>\n",
       "      <td>Madang</td>\n",
       "      <td>Madang</td>\n",
       "      <td>Papua New Guinea</td>\n",
       "      <td>MAG</td>\n",
       "      <td>AYMD</td>\n",
       "      <td>-5.207083</td>\n",
       "      <td>145.788700</td>\n",
       "      <td>20.0</td>\n",
       "      <td>10.0</td>\n",
       "      <td>U</td>\n",
       "      <td>Pacific/Port_Moresby</td>\n",
       "    </tr>\n",
       "    <tr>\n",
       "      <th>2</th>\n",
       "      <td>0003</td>\n",
       "      <td>PNG</td>\n",
       "      <td>Mount Hagen</td>\n",
       "      <td>Mount Hagen</td>\n",
       "      <td>Papua New Guinea</td>\n",
       "      <td>HGU</td>\n",
       "      <td>AYMH</td>\n",
       "      <td>-5.826789</td>\n",
       "      <td>144.295861</td>\n",
       "      <td>5388.0</td>\n",
       "      <td>10.0</td>\n",
       "      <td>U</td>\n",
       "      <td>Pacific/Port_Moresby</td>\n",
       "    </tr>\n",
       "  </tbody>\n",
       "</table>\n",
       "</div>"
      ],
      "text/plain": [
       "  cod_aeropuerto cod_pais nombre_aeropuerto ciudad_aeropuerto  \\\n",
       "0           0001      PNG            Goroka            Goroka   \n",
       "1           0002      PNG            Madang            Madang   \n",
       "2           0003      PNG       Mount Hagen       Mount Hagen   \n",
       "\n",
       "    pais_aeropuerto cod_iata_faa cod_icao   latitud    longitud  altitud  \\\n",
       "0  Papua New Guinea          GKA     AYGA -6.081689  145.391881   5282.0   \n",
       "1  Papua New Guinea          MAG     AYMD -5.207083  145.788700     20.0   \n",
       "2  Papua New Guinea          HGU     AYMH -5.826789  144.295861   5388.0   \n",
       "\n",
       "   zona_horaria dst       zona_horaria_tz  \n",
       "0          10.0   U  Pacific/Port_Moresby  \n",
       "1          10.0   U  Pacific/Port_Moresby  \n",
       "2          10.0   U  Pacific/Port_Moresby  "
      ]
     },
     "execution_count": 227,
     "metadata": {},
     "output_type": "execute_result"
    }
   ],
   "source": [
    "df_aeropuertos.head(3)"
   ]
  },
  {
   "cell_type": "markdown",
   "id": "bd2c8c83-93ca-4aec-9713-8b7a08de8e99",
   "metadata": {},
   "source": [
    "### Check Null Values"
   ]
  },
  {
   "cell_type": "code",
   "execution_count": 228,
   "id": "8eace75e-be2b-4274-b2fc-22aef6a8c49a",
   "metadata": {},
   "outputs": [
    {
     "data": {
      "text/plain": [
       "cod_aeropuerto       0\n",
       "cod_pais             0\n",
       "nombre_aeropuerto    0\n",
       "ciudad_aeropuerto    0\n",
       "pais_aeropuerto      0\n",
       "cod_iata_faa         2\n",
       "cod_icao             1\n",
       "latitud              1\n",
       "longitud             1\n",
       "altitud              1\n",
       "zona_horaria         1\n",
       "dst                  1\n",
       "zona_horaria_tz      1\n",
       "dtype: int64"
      ]
     },
     "execution_count": 228,
     "metadata": {},
     "output_type": "execute_result"
    }
   ],
   "source": [
    "df_aeropuertos.isnull().sum()"
   ]
  },
  {
   "cell_type": "code",
   "execution_count": 229,
   "id": "681c3763-43d0-4572-9608-e604fdacb000",
   "metadata": {},
   "outputs": [
    {
     "data": {
      "text/html": [
       "<div>\n",
       "<style scoped>\n",
       "    .dataframe tbody tr th:only-of-type {\n",
       "        vertical-align: middle;\n",
       "    }\n",
       "\n",
       "    .dataframe tbody tr th {\n",
       "        vertical-align: top;\n",
       "    }\n",
       "\n",
       "    .dataframe thead th {\n",
       "        text-align: right;\n",
       "    }\n",
       "</style>\n",
       "<table border=\"1\" class=\"dataframe\">\n",
       "  <thead>\n",
       "    <tr style=\"text-align: right;\">\n",
       "      <th></th>\n",
       "      <th>cod_aeropuerto</th>\n",
       "      <th>cod_pais</th>\n",
       "      <th>nombre_aeropuerto</th>\n",
       "      <th>ciudad_aeropuerto</th>\n",
       "      <th>pais_aeropuerto</th>\n",
       "      <th>cod_iata_faa</th>\n",
       "      <th>cod_icao</th>\n",
       "      <th>latitud</th>\n",
       "      <th>longitud</th>\n",
       "      <th>altitud</th>\n",
       "      <th>zona_horaria</th>\n",
       "      <th>dst</th>\n",
       "      <th>zona_horaria_tz</th>\n",
       "    </tr>\n",
       "  </thead>\n",
       "  <tbody>\n",
       "    <tr>\n",
       "      <th>22</th>\n",
       "      <td>0023</td>\n",
       "      <td>CAN</td>\n",
       "      <td>Shearwater</td>\n",
       "      <td>Halifax</td>\n",
       "      <td>Canada</td>\n",
       "      <td>NaN</td>\n",
       "      <td>CYAW</td>\n",
       "      <td>44.639721</td>\n",
       "      <td>-63.499444</td>\n",
       "      <td>167.0</td>\n",
       "      <td>-4.0</td>\n",
       "      <td>A</td>\n",
       "      <td>America/Halifax</td>\n",
       "    </tr>\n",
       "    <tr>\n",
       "      <th>297</th>\n",
       "      <td>0300</td>\n",
       "      <td>BEL</td>\n",
       "      <td>Beauvechain</td>\n",
       "      <td>Beauvechain</td>\n",
       "      <td>Belgium</td>\n",
       "      <td>NaN</td>\n",
       "      <td>EBBE</td>\n",
       "      <td>50.758610</td>\n",
       "      <td>4.768333</td>\n",
       "      <td>370.0</td>\n",
       "      <td>1.0</td>\n",
       "      <td>E</td>\n",
       "      <td>Europe/Brussels</td>\n",
       "    </tr>\n",
       "  </tbody>\n",
       "</table>\n",
       "</div>"
      ],
      "text/plain": [
       "    cod_aeropuerto cod_pais nombre_aeropuerto ciudad_aeropuerto  \\\n",
       "22            0023      CAN        Shearwater           Halifax   \n",
       "297           0300      BEL       Beauvechain       Beauvechain   \n",
       "\n",
       "    pais_aeropuerto cod_iata_faa cod_icao    latitud   longitud  altitud  \\\n",
       "22           Canada          NaN     CYAW  44.639721 -63.499444    167.0   \n",
       "297         Belgium          NaN     EBBE  50.758610   4.768333    370.0   \n",
       "\n",
       "     zona_horaria dst  zona_horaria_tz  \n",
       "22           -4.0   A  America/Halifax  \n",
       "297           1.0   E  Europe/Brussels  "
      ]
     },
     "execution_count": 229,
     "metadata": {},
     "output_type": "execute_result"
    }
   ],
   "source": [
    "df_aeropuertos[df_aeropuertos['cod_iata_faa'].isnull()]"
   ]
  },
  {
   "cell_type": "code",
   "execution_count": 230,
   "id": "66913a1c-aa29-47bd-9d4e-7b8df6f8cd4e",
   "metadata": {},
   "outputs": [],
   "source": [
    "df_aeropuertos.iloc[[22,297],5]='Z99'"
   ]
  },
  {
   "cell_type": "code",
   "execution_count": 231,
   "id": "df54ab09-be12-47c6-8df3-615995cc989d",
   "metadata": {},
   "outputs": [
    {
     "data": {
      "text/html": [
       "<div>\n",
       "<style scoped>\n",
       "    .dataframe tbody tr th:only-of-type {\n",
       "        vertical-align: middle;\n",
       "    }\n",
       "\n",
       "    .dataframe tbody tr th {\n",
       "        vertical-align: top;\n",
       "    }\n",
       "\n",
       "    .dataframe thead th {\n",
       "        text-align: right;\n",
       "    }\n",
       "</style>\n",
       "<table border=\"1\" class=\"dataframe\">\n",
       "  <thead>\n",
       "    <tr style=\"text-align: right;\">\n",
       "      <th></th>\n",
       "      <th>cod_aeropuerto</th>\n",
       "      <th>cod_pais</th>\n",
       "      <th>nombre_aeropuerto</th>\n",
       "      <th>ciudad_aeropuerto</th>\n",
       "      <th>pais_aeropuerto</th>\n",
       "      <th>cod_iata_faa</th>\n",
       "      <th>cod_icao</th>\n",
       "      <th>latitud</th>\n",
       "      <th>longitud</th>\n",
       "      <th>altitud</th>\n",
       "      <th>zona_horaria</th>\n",
       "      <th>dst</th>\n",
       "      <th>zona_horaria_tz</th>\n",
       "    </tr>\n",
       "  </thead>\n",
       "  <tbody>\n",
       "    <tr>\n",
       "      <th>6916</th>\n",
       "      <td>8345</td>\n",
       "      <td>USA</td>\n",
       "      <td>Montgomery Field</td>\n",
       "      <td>San Diego</td>\n",
       "      <td>United States</td>\n",
       "      <td>MYF</td>\n",
       "      <td>NaN</td>\n",
       "      <td>32.4759</td>\n",
       "      <td>117.759</td>\n",
       "      <td>17.0</td>\n",
       "      <td>8.0</td>\n",
       "      <td>A</td>\n",
       "      <td>Asia/Chongqing</td>\n",
       "    </tr>\n",
       "  </tbody>\n",
       "</table>\n",
       "</div>"
      ],
      "text/plain": [
       "     cod_aeropuerto cod_pais nombre_aeropuerto ciudad_aeropuerto  \\\n",
       "6916           8345      USA  Montgomery Field         San Diego   \n",
       "\n",
       "     pais_aeropuerto cod_iata_faa cod_icao  latitud  longitud  altitud  \\\n",
       "6916   United States          MYF      NaN  32.4759   117.759     17.0   \n",
       "\n",
       "      zona_horaria dst zona_horaria_tz  \n",
       "6916           8.0   A  Asia/Chongqing  "
      ]
     },
     "execution_count": 231,
     "metadata": {},
     "output_type": "execute_result"
    }
   ],
   "source": [
    "df_aeropuertos[df_aeropuertos['cod_icao'].isnull()]"
   ]
  },
  {
   "cell_type": "code",
   "execution_count": 232,
   "id": "944c48b4-a7ca-46e1-9ce7-93c19e9ecfa5",
   "metadata": {},
   "outputs": [],
   "source": [
    "df_aeropuertos.iloc[6916,6]='Z999'"
   ]
  },
  {
   "cell_type": "code",
   "execution_count": 233,
   "id": "89b9cfb3-f382-45d2-bf94-cdcabaa071e8",
   "metadata": {},
   "outputs": [
    {
     "data": {
      "text/html": [
       "<div>\n",
       "<style scoped>\n",
       "    .dataframe tbody tr th:only-of-type {\n",
       "        vertical-align: middle;\n",
       "    }\n",
       "\n",
       "    .dataframe tbody tr th {\n",
       "        vertical-align: top;\n",
       "    }\n",
       "\n",
       "    .dataframe thead th {\n",
       "        text-align: right;\n",
       "    }\n",
       "</style>\n",
       "<table border=\"1\" class=\"dataframe\">\n",
       "  <thead>\n",
       "    <tr style=\"text-align: right;\">\n",
       "      <th></th>\n",
       "      <th>cod_aeropuerto</th>\n",
       "      <th>cod_pais</th>\n",
       "      <th>nombre_aeropuerto</th>\n",
       "      <th>ciudad_aeropuerto</th>\n",
       "      <th>pais_aeropuerto</th>\n",
       "      <th>cod_iata_faa</th>\n",
       "      <th>cod_icao</th>\n",
       "      <th>latitud</th>\n",
       "      <th>longitud</th>\n",
       "      <th>altitud</th>\n",
       "      <th>zona_horaria</th>\n",
       "      <th>dst</th>\n",
       "      <th>zona_horaria_tz</th>\n",
       "    </tr>\n",
       "  </thead>\n",
       "  <tbody>\n",
       "    <tr>\n",
       "      <th>8107</th>\n",
       "      <td>Z999</td>\n",
       "      <td>Z99</td>\n",
       "      <td>Desconocido</td>\n",
       "      <td>Desconocido</td>\n",
       "      <td>Desconocido</td>\n",
       "      <td>Z99</td>\n",
       "      <td>Z999</td>\n",
       "      <td>NaN</td>\n",
       "      <td>NaN</td>\n",
       "      <td>NaN</td>\n",
       "      <td>NaN</td>\n",
       "      <td>NaN</td>\n",
       "      <td>NaN</td>\n",
       "    </tr>\n",
       "  </tbody>\n",
       "</table>\n",
       "</div>"
      ],
      "text/plain": [
       "     cod_aeropuerto cod_pais nombre_aeropuerto ciudad_aeropuerto  \\\n",
       "8107           Z999      Z99       Desconocido       Desconocido   \n",
       "\n",
       "     pais_aeropuerto cod_iata_faa cod_icao  latitud  longitud  altitud  \\\n",
       "8107     Desconocido          Z99     Z999      NaN       NaN      NaN   \n",
       "\n",
       "      zona_horaria  dst zona_horaria_tz  \n",
       "8107           NaN  NaN             NaN  "
      ]
     },
     "execution_count": 233,
     "metadata": {},
     "output_type": "execute_result"
    }
   ],
   "source": [
    "df_aeropuertos[df_aeropuertos['latitud'].isnull()]"
   ]
  },
  {
   "cell_type": "markdown",
   "id": "a7700ddd-ece8-4bc2-9579-1eeb7231b8a3",
   "metadata": {},
   "source": [
    "### Check duplicates"
   ]
  },
  {
   "cell_type": "code",
   "execution_count": 234,
   "id": "9cb37fd8-891c-4061-84f1-297846d5aa81",
   "metadata": {},
   "outputs": [
    {
     "data": {
      "text/plain": [
       "0"
      ]
     },
     "execution_count": 234,
     "metadata": {},
     "output_type": "execute_result"
    }
   ],
   "source": [
    "df_aeropuertos.duplicated(subset='cod_aeropuerto').sum()"
   ]
  },
  {
   "cell_type": "markdown",
   "id": "7ec2a734-bd10-4807-80d9-287be2338c20",
   "metadata": {},
   "source": [
    "### Integrity validation with the countries table"
   ]
  },
  {
   "cell_type": "code",
   "execution_count": 235,
   "id": "54341697-6627-4c13-8788-3aae1d44cc2e",
   "metadata": {},
   "outputs": [
    {
     "data": {
      "text/html": [
       "<div>\n",
       "<style scoped>\n",
       "    .dataframe tbody tr th:only-of-type {\n",
       "        vertical-align: middle;\n",
       "    }\n",
       "\n",
       "    .dataframe tbody tr th {\n",
       "        vertical-align: top;\n",
       "    }\n",
       "\n",
       "    .dataframe thead th {\n",
       "        text-align: right;\n",
       "    }\n",
       "</style>\n",
       "<table border=\"1\" class=\"dataframe\">\n",
       "  <thead>\n",
       "    <tr style=\"text-align: right;\">\n",
       "      <th></th>\n",
       "      <th>cod_pais</th>\n",
       "      <th>pais</th>\n",
       "      <th>cod_pais2</th>\n",
       "      <th>cod_continente</th>\n",
       "      <th>continente</th>\n",
       "      <th>longitud</th>\n",
       "      <th>latitud</th>\n",
       "    </tr>\n",
       "  </thead>\n",
       "  <tbody>\n",
       "    <tr>\n",
       "      <th>0</th>\n",
       "      <td>AFG</td>\n",
       "      <td>Afghanistan</td>\n",
       "      <td>AF</td>\n",
       "      <td>AS</td>\n",
       "      <td>NaN</td>\n",
       "      <td>67.709953</td>\n",
       "      <td>33.939110</td>\n",
       "    </tr>\n",
       "    <tr>\n",
       "      <th>1</th>\n",
       "      <td>ALB</td>\n",
       "      <td>Albania</td>\n",
       "      <td>AL</td>\n",
       "      <td>EU</td>\n",
       "      <td>NaN</td>\n",
       "      <td>20.168331</td>\n",
       "      <td>41.153332</td>\n",
       "    </tr>\n",
       "    <tr>\n",
       "      <th>2</th>\n",
       "      <td>DZA</td>\n",
       "      <td>Algeria</td>\n",
       "      <td>DZ</td>\n",
       "      <td>AF</td>\n",
       "      <td>NaN</td>\n",
       "      <td>1.659626</td>\n",
       "      <td>28.033886</td>\n",
       "    </tr>\n",
       "  </tbody>\n",
       "</table>\n",
       "</div>"
      ],
      "text/plain": [
       "  cod_pais         pais cod_pais2 cod_continente  continente   longitud  \\\n",
       "0      AFG  Afghanistan        AF             AS         NaN  67.709953   \n",
       "1      ALB      Albania        AL             EU         NaN  20.168331   \n",
       "2      DZA      Algeria        DZ             AF         NaN   1.659626   \n",
       "\n",
       "     latitud  \n",
       "0  33.939110  \n",
       "1  41.153332  \n",
       "2  28.033886  "
      ]
     },
     "execution_count": 235,
     "metadata": {},
     "output_type": "execute_result"
    }
   ],
   "source": [
    "df_paises_final.head(3)"
   ]
  },
  {
   "cell_type": "code",
   "execution_count": 171,
   "id": "5cc8d6bc-b034-4dde-9fbd-7b6872c3ca76",
   "metadata": {},
   "outputs": [
    {
     "data": {
      "text/html": [
       "<div>\n",
       "<style scoped>\n",
       "    .dataframe tbody tr th:only-of-type {\n",
       "        vertical-align: middle;\n",
       "    }\n",
       "\n",
       "    .dataframe tbody tr th {\n",
       "        vertical-align: top;\n",
       "    }\n",
       "\n",
       "    .dataframe thead th {\n",
       "        text-align: right;\n",
       "    }\n",
       "</style>\n",
       "<table border=\"1\" class=\"dataframe\">\n",
       "  <thead>\n",
       "    <tr style=\"text-align: right;\">\n",
       "      <th></th>\n",
       "      <th>cod_aeropuerto</th>\n",
       "      <th>cod_pais</th>\n",
       "      <th>nombre_aeropuerto</th>\n",
       "      <th>ciudad_aeropuerto</th>\n",
       "      <th>pais_aeropuerto</th>\n",
       "      <th>cod_iata_faa</th>\n",
       "      <th>cod_icao</th>\n",
       "      <th>latitud</th>\n",
       "      <th>longitud</th>\n",
       "      <th>altitud</th>\n",
       "      <th>zona_horaria</th>\n",
       "      <th>dst</th>\n",
       "      <th>zona_horaria_tz</th>\n",
       "    </tr>\n",
       "  </thead>\n",
       "  <tbody>\n",
       "    <tr>\n",
       "      <th>0</th>\n",
       "      <td>0001</td>\n",
       "      <td>PNG</td>\n",
       "      <td>Goroka</td>\n",
       "      <td>Goroka</td>\n",
       "      <td>Papua New Guinea</td>\n",
       "      <td>GKA</td>\n",
       "      <td>AYGA</td>\n",
       "      <td>-6.081689</td>\n",
       "      <td>145.391881</td>\n",
       "      <td>5282.0</td>\n",
       "      <td>10.0</td>\n",
       "      <td>U</td>\n",
       "      <td>Pacific/Port_Moresby</td>\n",
       "    </tr>\n",
       "    <tr>\n",
       "      <th>1</th>\n",
       "      <td>0002</td>\n",
       "      <td>PNG</td>\n",
       "      <td>Madang</td>\n",
       "      <td>Madang</td>\n",
       "      <td>Papua New Guinea</td>\n",
       "      <td>MAG</td>\n",
       "      <td>AYMD</td>\n",
       "      <td>-5.207083</td>\n",
       "      <td>145.788700</td>\n",
       "      <td>20.0</td>\n",
       "      <td>10.0</td>\n",
       "      <td>U</td>\n",
       "      <td>Pacific/Port_Moresby</td>\n",
       "    </tr>\n",
       "    <tr>\n",
       "      <th>2</th>\n",
       "      <td>0003</td>\n",
       "      <td>PNG</td>\n",
       "      <td>Mount Hagen</td>\n",
       "      <td>Mount Hagen</td>\n",
       "      <td>Papua New Guinea</td>\n",
       "      <td>HGU</td>\n",
       "      <td>AYMH</td>\n",
       "      <td>-5.826789</td>\n",
       "      <td>144.295861</td>\n",
       "      <td>5388.0</td>\n",
       "      <td>10.0</td>\n",
       "      <td>U</td>\n",
       "      <td>Pacific/Port_Moresby</td>\n",
       "    </tr>\n",
       "  </tbody>\n",
       "</table>\n",
       "</div>"
      ],
      "text/plain": [
       "  cod_aeropuerto cod_pais nombre_aeropuerto ciudad_aeropuerto  \\\n",
       "0           0001      PNG            Goroka            Goroka   \n",
       "1           0002      PNG            Madang            Madang   \n",
       "2           0003      PNG       Mount Hagen       Mount Hagen   \n",
       "\n",
       "    pais_aeropuerto cod_iata_faa cod_icao   latitud    longitud  altitud  \\\n",
       "0  Papua New Guinea          GKA     AYGA -6.081689  145.391881   5282.0   \n",
       "1  Papua New Guinea          MAG     AYMD -5.207083  145.788700     20.0   \n",
       "2  Papua New Guinea          HGU     AYMH -5.826789  144.295861   5388.0   \n",
       "\n",
       "   zona_horaria dst       zona_horaria_tz  \n",
       "0          10.0   U  Pacific/Port_Moresby  \n",
       "1          10.0   U  Pacific/Port_Moresby  \n",
       "2          10.0   U  Pacific/Port_Moresby  "
      ]
     },
     "execution_count": 171,
     "metadata": {},
     "output_type": "execute_result"
    }
   ],
   "source": [
    "df_aeropuertos.head(3)"
   ]
  },
  {
   "cell_type": "code",
   "execution_count": 236,
   "id": "cc3f9b7b-7802-4784-8672-b9a5c82ecc99",
   "metadata": {},
   "outputs": [],
   "source": [
    "missing_countries=[element for element in df_aeropuertos['cod_pais'] if element not in df_paises_final['cod_pais'].values]"
   ]
  },
  {
   "cell_type": "code",
   "execution_count": 237,
   "id": "2dd6f5f6-5a83-429f-9ada-aeae62cc065e",
   "metadata": {},
   "outputs": [
    {
     "data": {
      "text/plain": [
       "['SSD', 'WAK', 'SSD']"
      ]
     },
     "execution_count": 237,
     "metadata": {},
     "output_type": "execute_result"
    }
   ],
   "source": [
    "missing_countries"
   ]
  },
  {
   "cell_type": "code",
   "execution_count": 238,
   "id": "90931249-002b-47ec-8e9a-2b1bbac596ba",
   "metadata": {},
   "outputs": [],
   "source": [
    "indexes=df_aeropuertos[df_aeropuertos['cod_pais'].isin(missing_countries)].index"
   ]
  },
  {
   "cell_type": "code",
   "execution_count": 239,
   "id": "fc73d672-f730-461c-a96e-c9f7406f5256",
   "metadata": {},
   "outputs": [],
   "source": [
    "df_aeropuertos.iloc[indexes,1]='Z99'"
   ]
  },
  {
   "cell_type": "markdown",
   "id": "5ccc847c-9e86-44f3-8f2f-f7143264ab27",
   "metadata": {},
   "source": [
    "### Format the table as the destination table in Snwflake"
   ]
  },
  {
   "cell_type": "code",
   "execution_count": 241,
   "id": "8081770e-0030-45d6-8c81-b8c03145683b",
   "metadata": {},
   "outputs": [
    {
     "data": {
      "text/html": [
       "<div>\n",
       "<style scoped>\n",
       "    .dataframe tbody tr th:only-of-type {\n",
       "        vertical-align: middle;\n",
       "    }\n",
       "\n",
       "    .dataframe tbody tr th {\n",
       "        vertical-align: top;\n",
       "    }\n",
       "\n",
       "    .dataframe thead th {\n",
       "        text-align: right;\n",
       "    }\n",
       "</style>\n",
       "<table border=\"1\" class=\"dataframe\">\n",
       "  <thead>\n",
       "    <tr style=\"text-align: right;\">\n",
       "      <th></th>\n",
       "      <th>cod_aeropuerto</th>\n",
       "      <th>cod_pais</th>\n",
       "      <th>nombre_aeropuerto</th>\n",
       "      <th>ciudad_aeropuerto</th>\n",
       "      <th>pais_aeropuerto</th>\n",
       "      <th>cod_iata_faa</th>\n",
       "      <th>cod_icao</th>\n",
       "      <th>latitud</th>\n",
       "      <th>longitud</th>\n",
       "      <th>altitud</th>\n",
       "      <th>zona_horaria</th>\n",
       "      <th>dst</th>\n",
       "      <th>zona_horaria_tz</th>\n",
       "    </tr>\n",
       "  </thead>\n",
       "  <tbody>\n",
       "    <tr>\n",
       "      <th>0</th>\n",
       "      <td>0001</td>\n",
       "      <td>PNG</td>\n",
       "      <td>Goroka</td>\n",
       "      <td>Goroka</td>\n",
       "      <td>Papua New Guinea</td>\n",
       "      <td>GKA</td>\n",
       "      <td>AYGA</td>\n",
       "      <td>-6.081689</td>\n",
       "      <td>145.391881</td>\n",
       "      <td>5282.0</td>\n",
       "      <td>10.0</td>\n",
       "      <td>U</td>\n",
       "      <td>Pacific/Port_Moresby</td>\n",
       "    </tr>\n",
       "    <tr>\n",
       "      <th>1</th>\n",
       "      <td>0002</td>\n",
       "      <td>PNG</td>\n",
       "      <td>Madang</td>\n",
       "      <td>Madang</td>\n",
       "      <td>Papua New Guinea</td>\n",
       "      <td>MAG</td>\n",
       "      <td>AYMD</td>\n",
       "      <td>-5.207083</td>\n",
       "      <td>145.788700</td>\n",
       "      <td>20.0</td>\n",
       "      <td>10.0</td>\n",
       "      <td>U</td>\n",
       "      <td>Pacific/Port_Moresby</td>\n",
       "    </tr>\n",
       "    <tr>\n",
       "      <th>2</th>\n",
       "      <td>0003</td>\n",
       "      <td>PNG</td>\n",
       "      <td>Mount Hagen</td>\n",
       "      <td>Mount Hagen</td>\n",
       "      <td>Papua New Guinea</td>\n",
       "      <td>HGU</td>\n",
       "      <td>AYMH</td>\n",
       "      <td>-5.826789</td>\n",
       "      <td>144.295861</td>\n",
       "      <td>5388.0</td>\n",
       "      <td>10.0</td>\n",
       "      <td>U</td>\n",
       "      <td>Pacific/Port_Moresby</td>\n",
       "    </tr>\n",
       "  </tbody>\n",
       "</table>\n",
       "</div>"
      ],
      "text/plain": [
       "  cod_aeropuerto cod_pais nombre_aeropuerto ciudad_aeropuerto  \\\n",
       "0           0001      PNG            Goroka            Goroka   \n",
       "1           0002      PNG            Madang            Madang   \n",
       "2           0003      PNG       Mount Hagen       Mount Hagen   \n",
       "\n",
       "    pais_aeropuerto cod_iata_faa cod_icao   latitud    longitud  altitud  \\\n",
       "0  Papua New Guinea          GKA     AYGA -6.081689  145.391881   5282.0   \n",
       "1  Papua New Guinea          MAG     AYMD -5.207083  145.788700     20.0   \n",
       "2  Papua New Guinea          HGU     AYMH -5.826789  144.295861   5388.0   \n",
       "\n",
       "   zona_horaria dst       zona_horaria_tz  \n",
       "0          10.0   U  Pacific/Port_Moresby  \n",
       "1          10.0   U  Pacific/Port_Moresby  \n",
       "2          10.0   U  Pacific/Port_Moresby  "
      ]
     },
     "execution_count": 241,
     "metadata": {},
     "output_type": "execute_result"
    }
   ],
   "source": [
    "df_aeropuertos.head(3)"
   ]
  },
  {
   "cell_type": "code",
   "execution_count": 242,
   "id": "728755e5-7e4f-4c4c-8617-1b84e34ef7b6",
   "metadata": {},
   "outputs": [],
   "source": [
    "df_aeropuertos_final=(\n",
    "    df_aeropuertos\n",
    "    .iloc[:,[0,2,3,4,1,5,6,7,8,9,10,11,12]]\n",
    "    #.rename(columns={'desc_pais':'pais','longitude':'longitud','latitude':'latitud'})\n",
    ")"
   ]
  },
  {
   "cell_type": "code",
   "execution_count": 243,
   "id": "cf6bfd36-df3e-4345-a0ac-bc641c14836d",
   "metadata": {},
   "outputs": [
    {
     "data": {
      "text/plain": [
       "cod_aeropuerto        object\n",
       "nombre_aeropuerto     object\n",
       "ciudad_aeropuerto     object\n",
       "pais_aeropuerto       object\n",
       "cod_pais              object\n",
       "cod_iata_faa          object\n",
       "cod_icao              object\n",
       "latitud              float64\n",
       "longitud             float64\n",
       "altitud              float64\n",
       "zona_horaria         float64\n",
       "dst                   object\n",
       "zona_horaria_tz       object\n",
       "dtype: object"
      ]
     },
     "execution_count": 243,
     "metadata": {},
     "output_type": "execute_result"
    }
   ],
   "source": [
    "df_aeropuertos_final.dtypes"
   ]
  },
  {
   "cell_type": "markdown",
   "id": "1f63193f-5787-481a-88ef-d58fda7dcacc",
   "metadata": {},
   "source": [
    "### Load the data into SnowFlake"
   ]
  },
  {
   "cell_type": "code",
   "execution_count": 244,
   "id": "4f0c42da-36a4-478f-9462-4e634d9a85b2",
   "metadata": {},
   "outputs": [
    {
     "name": "stdout",
     "output_type": "stream",
     "text": [
      "Insertando datos\n",
      "Volcado correcto. Filas cargadas: 8108\n"
     ]
    }
   ],
   "source": [
    "try:\n",
    "    print('Insertando datos')\n",
    "    df_aeropuertos_final.to_sql('dm_aeropuertos', con = conn, if_exists = 'replace', index=False)\n",
    "    rows = len(df_aeropuertos_final)\n",
    "    print(\"Volcado correcto. Filas cargadas: \" + str(rows) )\n",
    "except Exception as e:\n",
    "    print(\"Error en el volcado: \" + str(e))"
   ]
  },
  {
   "cell_type": "markdown",
   "id": "eb347ffe-67ec-4f47-ab8f-01cde829e63f",
   "metadata": {},
   "source": [
    "# 3. Load the airlines table"
   ]
  },
  {
   "cell_type": "code",
   "execution_count": 245,
   "id": "92a8db12-4a68-4f22-b3e7-11ebff8e2108",
   "metadata": {},
   "outputs": [],
   "source": [
    "urlaerolineas='input/aerolineas.csv'"
   ]
  },
  {
   "cell_type": "code",
   "execution_count": 246,
   "id": "872830aa-8016-4a47-8465-6e893f8d643d",
   "metadata": {},
   "outputs": [],
   "source": [
    "df_aerolineas=pd.read_csv(urlaerolineas)"
   ]
  },
  {
   "cell_type": "code",
   "execution_count": 247,
   "id": "6af765d8-b23d-4f06-9c15-5fad2cb3a3ef",
   "metadata": {},
   "outputs": [
    {
     "data": {
      "text/html": [
       "<div>\n",
       "<style scoped>\n",
       "    .dataframe tbody tr th:only-of-type {\n",
       "        vertical-align: middle;\n",
       "    }\n",
       "\n",
       "    .dataframe tbody tr th {\n",
       "        vertical-align: top;\n",
       "    }\n",
       "\n",
       "    .dataframe thead th {\n",
       "        text-align: right;\n",
       "    }\n",
       "</style>\n",
       "<table border=\"1\" class=\"dataframe\">\n",
       "  <thead>\n",
       "    <tr style=\"text-align: right;\">\n",
       "      <th></th>\n",
       "      <th>cod_aerolinea</th>\n",
       "      <th>nombre_aerolinea</th>\n",
       "      <th>cod_pais</th>\n",
       "      <th>cod_iata</th>\n",
       "      <th>cod_icao</th>\n",
       "      <th>identificacion</th>\n",
       "      <th>pais_aerolinea</th>\n",
       "      <th>sw_activa</th>\n",
       "    </tr>\n",
       "  </thead>\n",
       "  <tbody>\n",
       "    <tr>\n",
       "      <th>0</th>\n",
       "      <td>00001</td>\n",
       "      <td>Private flight</td>\n",
       "      <td>Z99</td>\n",
       "      <td>Z9</td>\n",
       "      <td>Z99</td>\n",
       "      <td>I999</td>\n",
       "      <td>NaN</td>\n",
       "      <td>Y</td>\n",
       "    </tr>\n",
       "    <tr>\n",
       "      <th>1</th>\n",
       "      <td>00002</td>\n",
       "      <td>135 Airways</td>\n",
       "      <td>USA</td>\n",
       "      <td>Z9</td>\n",
       "      <td>GNL</td>\n",
       "      <td>GENERAL</td>\n",
       "      <td>United States</td>\n",
       "      <td>N</td>\n",
       "    </tr>\n",
       "    <tr>\n",
       "      <th>2</th>\n",
       "      <td>00003</td>\n",
       "      <td>1Time Airline</td>\n",
       "      <td>ZAF</td>\n",
       "      <td>1T</td>\n",
       "      <td>RNX</td>\n",
       "      <td>NEXTIME</td>\n",
       "      <td>South Africa</td>\n",
       "      <td>Y</td>\n",
       "    </tr>\n",
       "  </tbody>\n",
       "</table>\n",
       "</div>"
      ],
      "text/plain": [
       "  cod_aerolinea nombre_aerolinea cod_pais cod_iata cod_icao identificacion  \\\n",
       "0         00001   Private flight      Z99       Z9      Z99           I999   \n",
       "1         00002      135 Airways      USA       Z9      GNL        GENERAL   \n",
       "2         00003    1Time Airline      ZAF       1T      RNX        NEXTIME   \n",
       "\n",
       "  pais_aerolinea sw_activa  \n",
       "0            NaN         Y  \n",
       "1  United States         N  \n",
       "2   South Africa         Y  "
      ]
     },
     "execution_count": 247,
     "metadata": {},
     "output_type": "execute_result"
    }
   ],
   "source": [
    "df_aerolineas.head(3)"
   ]
  },
  {
   "cell_type": "markdown",
   "id": "e547df10-367b-4abd-a09a-18738517e506",
   "metadata": {},
   "source": [
    "### Check Null values"
   ]
  },
  {
   "cell_type": "code",
   "execution_count": 248,
   "id": "5e651671-3020-4f93-b540-cfea5279cd2e",
   "metadata": {},
   "outputs": [
    {
     "data": {
      "text/plain": [
       "cod_aerolinea        0\n",
       "nombre_aerolinea     0\n",
       "cod_pais             0\n",
       "cod_iata             2\n",
       "cod_icao             0\n",
       "identificacion      11\n",
       "pais_aerolinea      16\n",
       "sw_activa            1\n",
       "dtype: int64"
      ]
     },
     "execution_count": 248,
     "metadata": {},
     "output_type": "execute_result"
    }
   ],
   "source": [
    "df_aerolineas.isnull().sum()"
   ]
  },
  {
   "cell_type": "code",
   "execution_count": 249,
   "id": "0090ecfa-c859-420f-afc5-6b1b1e888fb6",
   "metadata": {},
   "outputs": [
    {
     "data": {
      "text/html": [
       "<div>\n",
       "<style scoped>\n",
       "    .dataframe tbody tr th:only-of-type {\n",
       "        vertical-align: middle;\n",
       "    }\n",
       "\n",
       "    .dataframe tbody tr th {\n",
       "        vertical-align: top;\n",
       "    }\n",
       "\n",
       "    .dataframe thead th {\n",
       "        text-align: right;\n",
       "    }\n",
       "</style>\n",
       "<table border=\"1\" class=\"dataframe\">\n",
       "  <thead>\n",
       "    <tr style=\"text-align: right;\">\n",
       "      <th></th>\n",
       "      <th>cod_aerolinea</th>\n",
       "      <th>nombre_aerolinea</th>\n",
       "      <th>cod_pais</th>\n",
       "      <th>cod_iata</th>\n",
       "      <th>cod_icao</th>\n",
       "      <th>identificacion</th>\n",
       "      <th>pais_aerolinea</th>\n",
       "      <th>sw_activa</th>\n",
       "    </tr>\n",
       "  </thead>\n",
       "  <tbody>\n",
       "    <tr>\n",
       "      <th>3592</th>\n",
       "      <td>03598</td>\n",
       "      <td>National Airlines</td>\n",
       "      <td>USA</td>\n",
       "      <td>NaN</td>\n",
       "      <td>NAL</td>\n",
       "      <td>NATIONAL</td>\n",
       "      <td>United States</td>\n",
       "      <td>N</td>\n",
       "    </tr>\n",
       "    <tr>\n",
       "      <th>5690</th>\n",
       "      <td>13190</td>\n",
       "      <td>Al-Naser Airlines</td>\n",
       "      <td>IRQ</td>\n",
       "      <td>NaN</td>\n",
       "      <td>Z99</td>\n",
       "      <td>I999</td>\n",
       "      <td>Iraq</td>\n",
       "      <td>Y</td>\n",
       "    </tr>\n",
       "  </tbody>\n",
       "</table>\n",
       "</div>"
      ],
      "text/plain": [
       "     cod_aerolinea   nombre_aerolinea cod_pais cod_iata cod_icao  \\\n",
       "3592         03598  National Airlines      USA      NaN      NAL   \n",
       "5690         13190  Al-Naser Airlines      IRQ      NaN      Z99   \n",
       "\n",
       "     identificacion pais_aerolinea sw_activa  \n",
       "3592       NATIONAL  United States         N  \n",
       "5690           I999           Iraq         Y  "
      ]
     },
     "execution_count": 249,
     "metadata": {},
     "output_type": "execute_result"
    }
   ],
   "source": [
    "df_aerolineas[df_aerolineas['cod_iata'].isnull()]"
   ]
  },
  {
   "cell_type": "code",
   "execution_count": 250,
   "id": "7f918f88-09b6-404f-a158-b6a7a2dcb840",
   "metadata": {},
   "outputs": [],
   "source": [
    "df_aerolineas.iloc[[3592,5690],3]='Z9'"
   ]
  },
  {
   "cell_type": "markdown",
   "id": "fc034f00-e4fb-4f83-81db-133a4c5ff337",
   "metadata": {},
   "source": [
    "### Check duplicate values"
   ]
  },
  {
   "cell_type": "code",
   "execution_count": 251,
   "id": "80938a2e-6600-4f55-8d99-8c3391732144",
   "metadata": {},
   "outputs": [
    {
     "data": {
      "text/html": [
       "<div>\n",
       "<style scoped>\n",
       "    .dataframe tbody tr th:only-of-type {\n",
       "        vertical-align: middle;\n",
       "    }\n",
       "\n",
       "    .dataframe tbody tr th {\n",
       "        vertical-align: top;\n",
       "    }\n",
       "\n",
       "    .dataframe thead th {\n",
       "        text-align: right;\n",
       "    }\n",
       "</style>\n",
       "<table border=\"1\" class=\"dataframe\">\n",
       "  <thead>\n",
       "    <tr style=\"text-align: right;\">\n",
       "      <th></th>\n",
       "      <th>cod_aerolinea</th>\n",
       "      <th>nombre_aerolinea</th>\n",
       "      <th>cod_pais</th>\n",
       "      <th>cod_iata</th>\n",
       "      <th>cod_icao</th>\n",
       "      <th>identificacion</th>\n",
       "      <th>pais_aerolinea</th>\n",
       "      <th>sw_activa</th>\n",
       "    </tr>\n",
       "  </thead>\n",
       "  <tbody>\n",
       "  </tbody>\n",
       "</table>\n",
       "</div>"
      ],
      "text/plain": [
       "Empty DataFrame\n",
       "Columns: [cod_aerolinea, nombre_aerolinea, cod_pais, cod_iata, cod_icao, identificacion, pais_aerolinea, sw_activa]\n",
       "Index: []"
      ]
     },
     "execution_count": 251,
     "metadata": {},
     "output_type": "execute_result"
    }
   ],
   "source": [
    "df_aerolineas[df_aerolineas.duplicated(subset='cod_aerolinea')]"
   ]
  },
  {
   "cell_type": "markdown",
   "id": "2da08909-53c4-40f9-be46-afdaf1b7b343",
   "metadata": {},
   "source": [
    "### Integrity validation with the countries table"
   ]
  },
  {
   "cell_type": "code",
   "execution_count": 252,
   "id": "023b9505-f6c4-4b01-af44-55b4d6cf131a",
   "metadata": {},
   "outputs": [
    {
     "data": {
      "text/html": [
       "<div>\n",
       "<style scoped>\n",
       "    .dataframe tbody tr th:only-of-type {\n",
       "        vertical-align: middle;\n",
       "    }\n",
       "\n",
       "    .dataframe tbody tr th {\n",
       "        vertical-align: top;\n",
       "    }\n",
       "\n",
       "    .dataframe thead th {\n",
       "        text-align: right;\n",
       "    }\n",
       "</style>\n",
       "<table border=\"1\" class=\"dataframe\">\n",
       "  <thead>\n",
       "    <tr style=\"text-align: right;\">\n",
       "      <th></th>\n",
       "      <th>cod_aerolinea</th>\n",
       "      <th>nombre_aerolinea</th>\n",
       "      <th>cod_pais</th>\n",
       "      <th>cod_iata</th>\n",
       "      <th>cod_icao</th>\n",
       "      <th>identificacion</th>\n",
       "      <th>pais_aerolinea</th>\n",
       "      <th>sw_activa</th>\n",
       "    </tr>\n",
       "  </thead>\n",
       "  <tbody>\n",
       "    <tr>\n",
       "      <th>0</th>\n",
       "      <td>00001</td>\n",
       "      <td>Private flight</td>\n",
       "      <td>Z99</td>\n",
       "      <td>Z9</td>\n",
       "      <td>Z99</td>\n",
       "      <td>I999</td>\n",
       "      <td>NaN</td>\n",
       "      <td>Y</td>\n",
       "    </tr>\n",
       "    <tr>\n",
       "      <th>1</th>\n",
       "      <td>00002</td>\n",
       "      <td>135 Airways</td>\n",
       "      <td>USA</td>\n",
       "      <td>Z9</td>\n",
       "      <td>GNL</td>\n",
       "      <td>GENERAL</td>\n",
       "      <td>United States</td>\n",
       "      <td>N</td>\n",
       "    </tr>\n",
       "    <tr>\n",
       "      <th>2</th>\n",
       "      <td>00003</td>\n",
       "      <td>1Time Airline</td>\n",
       "      <td>ZAF</td>\n",
       "      <td>1T</td>\n",
       "      <td>RNX</td>\n",
       "      <td>NEXTIME</td>\n",
       "      <td>South Africa</td>\n",
       "      <td>Y</td>\n",
       "    </tr>\n",
       "  </tbody>\n",
       "</table>\n",
       "</div>"
      ],
      "text/plain": [
       "  cod_aerolinea nombre_aerolinea cod_pais cod_iata cod_icao identificacion  \\\n",
       "0         00001   Private flight      Z99       Z9      Z99           I999   \n",
       "1         00002      135 Airways      USA       Z9      GNL        GENERAL   \n",
       "2         00003    1Time Airline      ZAF       1T      RNX        NEXTIME   \n",
       "\n",
       "  pais_aerolinea sw_activa  \n",
       "0            NaN         Y  \n",
       "1  United States         N  \n",
       "2   South Africa         Y  "
      ]
     },
     "execution_count": 252,
     "metadata": {},
     "output_type": "execute_result"
    }
   ],
   "source": [
    "df_aerolineas.head(3)"
   ]
  },
  {
   "cell_type": "code",
   "execution_count": 253,
   "id": "ae76813c-befa-4d93-9e85-6e7c1f4485b3",
   "metadata": {},
   "outputs": [
    {
     "data": {
      "text/html": [
       "<div>\n",
       "<style scoped>\n",
       "    .dataframe tbody tr th:only-of-type {\n",
       "        vertical-align: middle;\n",
       "    }\n",
       "\n",
       "    .dataframe tbody tr th {\n",
       "        vertical-align: top;\n",
       "    }\n",
       "\n",
       "    .dataframe thead th {\n",
       "        text-align: right;\n",
       "    }\n",
       "</style>\n",
       "<table border=\"1\" class=\"dataframe\">\n",
       "  <thead>\n",
       "    <tr style=\"text-align: right;\">\n",
       "      <th></th>\n",
       "      <th>cod_pais</th>\n",
       "      <th>pais</th>\n",
       "      <th>cod_pais2</th>\n",
       "      <th>cod_continente</th>\n",
       "      <th>continente</th>\n",
       "      <th>longitud</th>\n",
       "      <th>latitud</th>\n",
       "    </tr>\n",
       "  </thead>\n",
       "  <tbody>\n",
       "    <tr>\n",
       "      <th>0</th>\n",
       "      <td>AFG</td>\n",
       "      <td>Afghanistan</td>\n",
       "      <td>AF</td>\n",
       "      <td>AS</td>\n",
       "      <td>NaN</td>\n",
       "      <td>67.709953</td>\n",
       "      <td>33.939110</td>\n",
       "    </tr>\n",
       "    <tr>\n",
       "      <th>1</th>\n",
       "      <td>ALB</td>\n",
       "      <td>Albania</td>\n",
       "      <td>AL</td>\n",
       "      <td>EU</td>\n",
       "      <td>NaN</td>\n",
       "      <td>20.168331</td>\n",
       "      <td>41.153332</td>\n",
       "    </tr>\n",
       "    <tr>\n",
       "      <th>2</th>\n",
       "      <td>DZA</td>\n",
       "      <td>Algeria</td>\n",
       "      <td>DZ</td>\n",
       "      <td>AF</td>\n",
       "      <td>NaN</td>\n",
       "      <td>1.659626</td>\n",
       "      <td>28.033886</td>\n",
       "    </tr>\n",
       "  </tbody>\n",
       "</table>\n",
       "</div>"
      ],
      "text/plain": [
       "  cod_pais         pais cod_pais2 cod_continente  continente   longitud  \\\n",
       "0      AFG  Afghanistan        AF             AS         NaN  67.709953   \n",
       "1      ALB      Albania        AL             EU         NaN  20.168331   \n",
       "2      DZA      Algeria        DZ             AF         NaN   1.659626   \n",
       "\n",
       "     latitud  \n",
       "0  33.939110  \n",
       "1  41.153332  \n",
       "2  28.033886  "
      ]
     },
     "execution_count": 253,
     "metadata": {},
     "output_type": "execute_result"
    }
   ],
   "source": [
    "df_paises_final.head(3)"
   ]
  },
  {
   "cell_type": "code",
   "execution_count": 254,
   "id": "63859b72-e032-4d44-a304-55bd055ef87e",
   "metadata": {},
   "outputs": [],
   "source": [
    "missing_airlines=[element for element in df_aerolineas['cod_pais'] if element not in df_paises_final['cod_pais'].values]"
   ]
  },
  {
   "cell_type": "code",
   "execution_count": 256,
   "id": "94a15951-3f1a-4cf8-9a42-239bad36c96e",
   "metadata": {},
   "outputs": [
    {
     "data": {
      "text/plain": [
       "[]"
      ]
     },
     "execution_count": 256,
     "metadata": {},
     "output_type": "execute_result"
    }
   ],
   "source": [
    "missing_airlines"
   ]
  },
  {
   "cell_type": "markdown",
   "id": "e2ffe69d-1908-4755-9027-c78c2f38ea0b",
   "metadata": {},
   "source": [
    "### Convert the field sw_activa into a 1/0 field"
   ]
  },
  {
   "cell_type": "code",
   "execution_count": 260,
   "id": "a3ea4b4a-4eea-4d6d-8f2d-938ce7590e40",
   "metadata": {},
   "outputs": [],
   "source": [
    "indexes_Y=df_aerolineas[df_aerolineas['sw_activa']=='Y'].index"
   ]
  },
  {
   "cell_type": "code",
   "execution_count": 261,
   "id": "66b7aa20-91f5-4822-85f5-ab609b65fd9b",
   "metadata": {},
   "outputs": [],
   "source": [
    "indexes_N=df_aerolineas[df_aerolineas['sw_activa']=='N'].index"
   ]
  },
  {
   "cell_type": "code",
   "execution_count": 263,
   "id": "012fc9fe-f814-47b7-89ad-49ff9a1e483c",
   "metadata": {},
   "outputs": [],
   "source": [
    "df_aerolineas.iloc[indexes_Y,7]=1"
   ]
  },
  {
   "cell_type": "code",
   "execution_count": 264,
   "id": "0a06deb9-f906-4925-868a-050ebe86ba8d",
   "metadata": {},
   "outputs": [],
   "source": [
    "df_aerolineas.iloc[indexes_N,7]=0"
   ]
  },
  {
   "cell_type": "code",
   "execution_count": 271,
   "id": "2585833c-00b9-44db-9821-39ebdb9e7447",
   "metadata": {},
   "outputs": [],
   "source": [
    "#el formato de la tabla ya esta como el formato destino, solo falta comprobar los tipos de los campos"
   ]
  },
  {
   "cell_type": "code",
   "execution_count": 274,
   "id": "86ca7ca4-57bb-47c0-836d-e65826ee9fe7",
   "metadata": {},
   "outputs": [
    {
     "data": {
      "text/plain": [
       "cod_aerolinea       object\n",
       "nombre_aerolinea    object\n",
       "cod_pais            object\n",
       "cod_iata            object\n",
       "cod_icao            object\n",
       "identificacion      object\n",
       "pais_aerolinea      object\n",
       "sw_activa           object\n",
       "dtype: object"
      ]
     },
     "execution_count": 274,
     "metadata": {},
     "output_type": "execute_result"
    }
   ],
   "source": [
    "df_aerolineas.dtypes"
   ]
  },
  {
   "cell_type": "markdown",
   "id": "9a3fd9ea-4304-4b6c-9b49-872c4fb4e708",
   "metadata": {},
   "source": [
    "### Load the data into SnowFlake"
   ]
  },
  {
   "cell_type": "code",
   "execution_count": 275,
   "id": "01335a08-b178-470b-a599-697092e0b708",
   "metadata": {},
   "outputs": [
    {
     "name": "stdout",
     "output_type": "stream",
     "text": [
      "Insertando datos\n",
      "Volcado correcto. Filas cargadas: 6048\n"
     ]
    }
   ],
   "source": [
    "try:\n",
    "    print('Insertando datos')\n",
    "    df_aerolineas.to_sql('dm_aerolineas', con = conn, if_exists = 'replace', index=False)\n",
    "    rows = len(df_aerolineas)\n",
    "    print(\"Volcado correcto. Filas cargadas: \" + str(rows) )\n",
    "except Exception as e:\n",
    "    print(\"Error en el volcado: \" + str(e))"
   ]
  },
  {
   "cell_type": "markdown",
   "id": "f9238db1-d5bc-4c03-9417-983a4212e485",
   "metadata": {
    "tags": []
   },
   "source": [
    "# 4. Load the routes table"
   ]
  },
  {
   "cell_type": "code",
   "execution_count": 293,
   "id": "9c5d5530-1332-47ef-8d49-de8e68603708",
   "metadata": {},
   "outputs": [],
   "source": [
    "urlrutas='input/rutas.json'"
   ]
  },
  {
   "cell_type": "code",
   "execution_count": 294,
   "id": "8b297cce-9cf4-4353-9118-731ef81ace8c",
   "metadata": {},
   "outputs": [],
   "source": [
    "df_rutas=pd.read_json(urlrutas)"
   ]
  },
  {
   "cell_type": "code",
   "execution_count": 295,
   "id": "8e3ffac8-3a8c-4bc0-b84e-250fa142b53b",
   "metadata": {},
   "outputs": [
    {
     "data": {
      "text/html": [
       "<div>\n",
       "<style scoped>\n",
       "    .dataframe tbody tr th:only-of-type {\n",
       "        vertical-align: middle;\n",
       "    }\n",
       "\n",
       "    .dataframe tbody tr th {\n",
       "        vertical-align: top;\n",
       "    }\n",
       "\n",
       "    .dataframe thead th {\n",
       "        text-align: right;\n",
       "    }\n",
       "</style>\n",
       "<table border=\"1\" class=\"dataframe\">\n",
       "  <thead>\n",
       "    <tr style=\"text-align: right;\">\n",
       "      <th></th>\n",
       "      <th>cod_ruta</th>\n",
       "      <th>cod_aeropuerto_ori</th>\n",
       "      <th>cod_aeropuerto_des</th>\n",
       "      <th>cod_aerolinea</th>\n",
       "      <th>equipamiento</th>\n",
       "    </tr>\n",
       "  </thead>\n",
       "  <tbody>\n",
       "    <tr>\n",
       "      <th>0</th>\n",
       "      <td>1</td>\n",
       "      <td>2965</td>\n",
       "      <td>2990</td>\n",
       "      <td>00410</td>\n",
       "      <td>CR2</td>\n",
       "    </tr>\n",
       "    <tr>\n",
       "      <th>1</th>\n",
       "      <td>2</td>\n",
       "      <td>2966</td>\n",
       "      <td>2990</td>\n",
       "      <td>00410</td>\n",
       "      <td>CR2</td>\n",
       "    </tr>\n",
       "    <tr>\n",
       "      <th>2</th>\n",
       "      <td>3</td>\n",
       "      <td>2966</td>\n",
       "      <td>2962</td>\n",
       "      <td>00410</td>\n",
       "      <td>CR2</td>\n",
       "    </tr>\n",
       "  </tbody>\n",
       "</table>\n",
       "</div>"
      ],
      "text/plain": [
       "   cod_ruta cod_aeropuerto_ori cod_aeropuerto_des cod_aerolinea equipamiento\n",
       "0         1               2965               2990         00410          CR2\n",
       "1         2               2966               2990         00410          CR2\n",
       "2         3               2966               2962         00410          CR2"
      ]
     },
     "execution_count": 295,
     "metadata": {},
     "output_type": "execute_result"
    }
   ],
   "source": [
    "df_rutas.head(3)"
   ]
  },
  {
   "cell_type": "markdown",
   "id": "c63a703d-4521-4149-9350-9688adb27c9d",
   "metadata": {},
   "source": [
    "### Check for Null Values"
   ]
  },
  {
   "cell_type": "code",
   "execution_count": 296,
   "id": "fdb4e3e0-ffd2-48cb-9283-148c3a40cfb7",
   "metadata": {},
   "outputs": [
    {
     "data": {
      "text/plain": [
       "cod_ruta               0\n",
       "cod_aeropuerto_ori     0\n",
       "cod_aeropuerto_des     0\n",
       "cod_aerolinea          0\n",
       "equipamiento          18\n",
       "dtype: int64"
      ]
     },
     "execution_count": 296,
     "metadata": {},
     "output_type": "execute_result"
    }
   ],
   "source": [
    "df_rutas.isnull().sum()"
   ]
  },
  {
   "cell_type": "code",
   "execution_count": 297,
   "id": "7b0833c4-15eb-4549-a6ab-2bdce9a4916a",
   "metadata": {},
   "outputs": [],
   "source": [
    "indexes=df_rutas[df_rutas['equipamiento'].isnull()].index"
   ]
  },
  {
   "cell_type": "code",
   "execution_count": 298,
   "id": "3d3eaf06-d869-4131-869a-8de87e5679ff",
   "metadata": {},
   "outputs": [],
   "source": [
    "df_rutas.iloc[indexes,4]='Z99'"
   ]
  },
  {
   "cell_type": "markdown",
   "id": "88a13c2a-8df7-45cb-80c1-552d0ce8670e",
   "metadata": {},
   "source": [
    "### Check for duplicate values"
   ]
  },
  {
   "cell_type": "code",
   "execution_count": 299,
   "id": "1228c9bc-ad11-4eb0-9ab4-03ab2cffe4b4",
   "metadata": {},
   "outputs": [
    {
     "data": {
      "text/html": [
       "<div>\n",
       "<style scoped>\n",
       "    .dataframe tbody tr th:only-of-type {\n",
       "        vertical-align: middle;\n",
       "    }\n",
       "\n",
       "    .dataframe tbody tr th {\n",
       "        vertical-align: top;\n",
       "    }\n",
       "\n",
       "    .dataframe thead th {\n",
       "        text-align: right;\n",
       "    }\n",
       "</style>\n",
       "<table border=\"1\" class=\"dataframe\">\n",
       "  <thead>\n",
       "    <tr style=\"text-align: right;\">\n",
       "      <th></th>\n",
       "      <th>cod_ruta</th>\n",
       "      <th>cod_aeropuerto_ori</th>\n",
       "      <th>cod_aeropuerto_des</th>\n",
       "      <th>cod_aerolinea</th>\n",
       "      <th>equipamiento</th>\n",
       "    </tr>\n",
       "  </thead>\n",
       "  <tbody>\n",
       "  </tbody>\n",
       "</table>\n",
       "</div>"
      ],
      "text/plain": [
       "Empty DataFrame\n",
       "Columns: [cod_ruta, cod_aeropuerto_ori, cod_aeropuerto_des, cod_aerolinea, equipamiento]\n",
       "Index: []"
      ]
     },
     "execution_count": 299,
     "metadata": {},
     "output_type": "execute_result"
    }
   ],
   "source": [
    "df_rutas[df_rutas.duplicated(subset='cod_ruta')]"
   ]
  },
  {
   "cell_type": "markdown",
   "id": "df67b7ea-356d-400d-acb9-ec16f9a7846f",
   "metadata": {},
   "source": [
    "### Integrity validation with airports table"
   ]
  },
  {
   "cell_type": "code",
   "execution_count": 301,
   "id": "72b72979-1c1d-43c7-ba3e-ca72d7dc9d33",
   "metadata": {},
   "outputs": [
    {
     "data": {
      "text/html": [
       "<div>\n",
       "<style scoped>\n",
       "    .dataframe tbody tr th:only-of-type {\n",
       "        vertical-align: middle;\n",
       "    }\n",
       "\n",
       "    .dataframe tbody tr th {\n",
       "        vertical-align: top;\n",
       "    }\n",
       "\n",
       "    .dataframe thead th {\n",
       "        text-align: right;\n",
       "    }\n",
       "</style>\n",
       "<table border=\"1\" class=\"dataframe\">\n",
       "  <thead>\n",
       "    <tr style=\"text-align: right;\">\n",
       "      <th></th>\n",
       "      <th>cod_ruta</th>\n",
       "      <th>cod_aeropuerto_ori</th>\n",
       "      <th>cod_aeropuerto_des</th>\n",
       "      <th>cod_aerolinea</th>\n",
       "      <th>equipamiento</th>\n",
       "    </tr>\n",
       "  </thead>\n",
       "  <tbody>\n",
       "    <tr>\n",
       "      <th>0</th>\n",
       "      <td>1</td>\n",
       "      <td>2965</td>\n",
       "      <td>2990</td>\n",
       "      <td>00410</td>\n",
       "      <td>CR2</td>\n",
       "    </tr>\n",
       "    <tr>\n",
       "      <th>1</th>\n",
       "      <td>2</td>\n",
       "      <td>2966</td>\n",
       "      <td>2990</td>\n",
       "      <td>00410</td>\n",
       "      <td>CR2</td>\n",
       "    </tr>\n",
       "    <tr>\n",
       "      <th>2</th>\n",
       "      <td>3</td>\n",
       "      <td>2966</td>\n",
       "      <td>2962</td>\n",
       "      <td>00410</td>\n",
       "      <td>CR2</td>\n",
       "    </tr>\n",
       "  </tbody>\n",
       "</table>\n",
       "</div>"
      ],
      "text/plain": [
       "   cod_ruta cod_aeropuerto_ori cod_aeropuerto_des cod_aerolinea equipamiento\n",
       "0         1               2965               2990         00410          CR2\n",
       "1         2               2966               2990         00410          CR2\n",
       "2         3               2966               2962         00410          CR2"
      ]
     },
     "execution_count": 301,
     "metadata": {},
     "output_type": "execute_result"
    }
   ],
   "source": [
    "df_rutas.head(3)"
   ]
  },
  {
   "cell_type": "code",
   "execution_count": 300,
   "id": "59e48104-fdda-465d-aaa6-c8542b4e8238",
   "metadata": {},
   "outputs": [
    {
     "data": {
      "text/html": [
       "<div>\n",
       "<style scoped>\n",
       "    .dataframe tbody tr th:only-of-type {\n",
       "        vertical-align: middle;\n",
       "    }\n",
       "\n",
       "    .dataframe tbody tr th {\n",
       "        vertical-align: top;\n",
       "    }\n",
       "\n",
       "    .dataframe thead th {\n",
       "        text-align: right;\n",
       "    }\n",
       "</style>\n",
       "<table border=\"1\" class=\"dataframe\">\n",
       "  <thead>\n",
       "    <tr style=\"text-align: right;\">\n",
       "      <th></th>\n",
       "      <th>cod_aeropuerto</th>\n",
       "      <th>nombre_aeropuerto</th>\n",
       "      <th>ciudad_aeropuerto</th>\n",
       "      <th>pais_aeropuerto</th>\n",
       "      <th>cod_pais</th>\n",
       "      <th>cod_iata_faa</th>\n",
       "      <th>cod_icao</th>\n",
       "      <th>latitud</th>\n",
       "      <th>longitud</th>\n",
       "      <th>altitud</th>\n",
       "      <th>zona_horaria</th>\n",
       "      <th>dst</th>\n",
       "      <th>zona_horaria_tz</th>\n",
       "    </tr>\n",
       "  </thead>\n",
       "  <tbody>\n",
       "    <tr>\n",
       "      <th>0</th>\n",
       "      <td>0001</td>\n",
       "      <td>Goroka</td>\n",
       "      <td>Goroka</td>\n",
       "      <td>Papua New Guinea</td>\n",
       "      <td>PNG</td>\n",
       "      <td>GKA</td>\n",
       "      <td>AYGA</td>\n",
       "      <td>-6.081689</td>\n",
       "      <td>145.391881</td>\n",
       "      <td>5282.0</td>\n",
       "      <td>10.0</td>\n",
       "      <td>U</td>\n",
       "      <td>Pacific/Port_Moresby</td>\n",
       "    </tr>\n",
       "    <tr>\n",
       "      <th>1</th>\n",
       "      <td>0002</td>\n",
       "      <td>Madang</td>\n",
       "      <td>Madang</td>\n",
       "      <td>Papua New Guinea</td>\n",
       "      <td>PNG</td>\n",
       "      <td>MAG</td>\n",
       "      <td>AYMD</td>\n",
       "      <td>-5.207083</td>\n",
       "      <td>145.788700</td>\n",
       "      <td>20.0</td>\n",
       "      <td>10.0</td>\n",
       "      <td>U</td>\n",
       "      <td>Pacific/Port_Moresby</td>\n",
       "    </tr>\n",
       "    <tr>\n",
       "      <th>2</th>\n",
       "      <td>0003</td>\n",
       "      <td>Mount Hagen</td>\n",
       "      <td>Mount Hagen</td>\n",
       "      <td>Papua New Guinea</td>\n",
       "      <td>PNG</td>\n",
       "      <td>HGU</td>\n",
       "      <td>AYMH</td>\n",
       "      <td>-5.826789</td>\n",
       "      <td>144.295861</td>\n",
       "      <td>5388.0</td>\n",
       "      <td>10.0</td>\n",
       "      <td>U</td>\n",
       "      <td>Pacific/Port_Moresby</td>\n",
       "    </tr>\n",
       "  </tbody>\n",
       "</table>\n",
       "</div>"
      ],
      "text/plain": [
       "  cod_aeropuerto nombre_aeropuerto ciudad_aeropuerto   pais_aeropuerto  \\\n",
       "0           0001            Goroka            Goroka  Papua New Guinea   \n",
       "1           0002            Madang            Madang  Papua New Guinea   \n",
       "2           0003       Mount Hagen       Mount Hagen  Papua New Guinea   \n",
       "\n",
       "  cod_pais cod_iata_faa cod_icao   latitud    longitud  altitud  zona_horaria  \\\n",
       "0      PNG          GKA     AYGA -6.081689  145.391881   5282.0          10.0   \n",
       "1      PNG          MAG     AYMD -5.207083  145.788700     20.0          10.0   \n",
       "2      PNG          HGU     AYMH -5.826789  144.295861   5388.0          10.0   \n",
       "\n",
       "  dst       zona_horaria_tz  \n",
       "0   U  Pacific/Port_Moresby  \n",
       "1   U  Pacific/Port_Moresby  \n",
       "2   U  Pacific/Port_Moresby  "
      ]
     },
     "execution_count": 300,
     "metadata": {},
     "output_type": "execute_result"
    }
   ],
   "source": [
    "df_aeropuertos_final.head(3)"
   ]
  },
  {
   "cell_type": "code",
   "execution_count": 302,
   "id": "5b0927f8-8482-4062-9290-3e8adbc44357",
   "metadata": {},
   "outputs": [
    {
     "data": {
      "text/plain": [
       "[]"
      ]
     },
     "execution_count": 302,
     "metadata": {},
     "output_type": "execute_result"
    }
   ],
   "source": [
    "[element for element in df_rutas['cod_aeropuerto_ori'] if element not in df_aeropuertos_final['cod_aeropuerto'].values]"
   ]
  },
  {
   "cell_type": "code",
   "execution_count": 303,
   "id": "710eff2f-77b0-4575-80ed-8cd812c34094",
   "metadata": {},
   "outputs": [
    {
     "data": {
      "text/plain": [
       "[]"
      ]
     },
     "execution_count": 303,
     "metadata": {},
     "output_type": "execute_result"
    }
   ],
   "source": [
    "[element for element in df_rutas['cod_aeropuerto_des'] if element not in df_aeropuertos_final['cod_aeropuerto'].values]"
   ]
  },
  {
   "cell_type": "markdown",
   "id": "a85942f8-1d29-492a-9a24-58d144dc2c77",
   "metadata": {},
   "source": [
    "### Integrity validation with airlines table"
   ]
  },
  {
   "cell_type": "code",
   "execution_count": 304,
   "id": "5f481323-865c-46a8-979d-96a0cb25e457",
   "metadata": {},
   "outputs": [
    {
     "data": {
      "text/html": [
       "<div>\n",
       "<style scoped>\n",
       "    .dataframe tbody tr th:only-of-type {\n",
       "        vertical-align: middle;\n",
       "    }\n",
       "\n",
       "    .dataframe tbody tr th {\n",
       "        vertical-align: top;\n",
       "    }\n",
       "\n",
       "    .dataframe thead th {\n",
       "        text-align: right;\n",
       "    }\n",
       "</style>\n",
       "<table border=\"1\" class=\"dataframe\">\n",
       "  <thead>\n",
       "    <tr style=\"text-align: right;\">\n",
       "      <th></th>\n",
       "      <th>cod_ruta</th>\n",
       "      <th>cod_aeropuerto_ori</th>\n",
       "      <th>cod_aeropuerto_des</th>\n",
       "      <th>cod_aerolinea</th>\n",
       "      <th>equipamiento</th>\n",
       "    </tr>\n",
       "  </thead>\n",
       "  <tbody>\n",
       "    <tr>\n",
       "      <th>0</th>\n",
       "      <td>1</td>\n",
       "      <td>2965</td>\n",
       "      <td>2990</td>\n",
       "      <td>00410</td>\n",
       "      <td>CR2</td>\n",
       "    </tr>\n",
       "    <tr>\n",
       "      <th>1</th>\n",
       "      <td>2</td>\n",
       "      <td>2966</td>\n",
       "      <td>2990</td>\n",
       "      <td>00410</td>\n",
       "      <td>CR2</td>\n",
       "    </tr>\n",
       "    <tr>\n",
       "      <th>2</th>\n",
       "      <td>3</td>\n",
       "      <td>2966</td>\n",
       "      <td>2962</td>\n",
       "      <td>00410</td>\n",
       "      <td>CR2</td>\n",
       "    </tr>\n",
       "  </tbody>\n",
       "</table>\n",
       "</div>"
      ],
      "text/plain": [
       "   cod_ruta cod_aeropuerto_ori cod_aeropuerto_des cod_aerolinea equipamiento\n",
       "0         1               2965               2990         00410          CR2\n",
       "1         2               2966               2990         00410          CR2\n",
       "2         3               2966               2962         00410          CR2"
      ]
     },
     "execution_count": 304,
     "metadata": {},
     "output_type": "execute_result"
    }
   ],
   "source": [
    "df_rutas.head(3)"
   ]
  },
  {
   "cell_type": "code",
   "execution_count": 305,
   "id": "e912183c-72b5-4a12-9776-b3b927afc5da",
   "metadata": {},
   "outputs": [
    {
     "data": {
      "text/html": [
       "<div>\n",
       "<style scoped>\n",
       "    .dataframe tbody tr th:only-of-type {\n",
       "        vertical-align: middle;\n",
       "    }\n",
       "\n",
       "    .dataframe tbody tr th {\n",
       "        vertical-align: top;\n",
       "    }\n",
       "\n",
       "    .dataframe thead th {\n",
       "        text-align: right;\n",
       "    }\n",
       "</style>\n",
       "<table border=\"1\" class=\"dataframe\">\n",
       "  <thead>\n",
       "    <tr style=\"text-align: right;\">\n",
       "      <th></th>\n",
       "      <th>cod_aerolinea</th>\n",
       "      <th>nombre_aerolinea</th>\n",
       "      <th>cod_pais</th>\n",
       "      <th>cod_iata</th>\n",
       "      <th>cod_icao</th>\n",
       "      <th>identificacion</th>\n",
       "      <th>pais_aerolinea</th>\n",
       "      <th>sw_activa</th>\n",
       "    </tr>\n",
       "  </thead>\n",
       "  <tbody>\n",
       "    <tr>\n",
       "      <th>0</th>\n",
       "      <td>00001</td>\n",
       "      <td>Private flight</td>\n",
       "      <td>Z99</td>\n",
       "      <td>Z9</td>\n",
       "      <td>Z99</td>\n",
       "      <td>I999</td>\n",
       "      <td>NaN</td>\n",
       "      <td>1</td>\n",
       "    </tr>\n",
       "    <tr>\n",
       "      <th>1</th>\n",
       "      <td>00002</td>\n",
       "      <td>135 Airways</td>\n",
       "      <td>USA</td>\n",
       "      <td>Z9</td>\n",
       "      <td>GNL</td>\n",
       "      <td>GENERAL</td>\n",
       "      <td>United States</td>\n",
       "      <td>0</td>\n",
       "    </tr>\n",
       "    <tr>\n",
       "      <th>2</th>\n",
       "      <td>00003</td>\n",
       "      <td>1Time Airline</td>\n",
       "      <td>ZAF</td>\n",
       "      <td>1T</td>\n",
       "      <td>RNX</td>\n",
       "      <td>NEXTIME</td>\n",
       "      <td>South Africa</td>\n",
       "      <td>1</td>\n",
       "    </tr>\n",
       "  </tbody>\n",
       "</table>\n",
       "</div>"
      ],
      "text/plain": [
       "  cod_aerolinea nombre_aerolinea cod_pais cod_iata cod_icao identificacion  \\\n",
       "0         00001   Private flight      Z99       Z9      Z99           I999   \n",
       "1         00002      135 Airways      USA       Z9      GNL        GENERAL   \n",
       "2         00003    1Time Airline      ZAF       1T      RNX        NEXTIME   \n",
       "\n",
       "  pais_aerolinea sw_activa  \n",
       "0            NaN         1  \n",
       "1  United States         0  \n",
       "2   South Africa         1  "
      ]
     },
     "execution_count": 305,
     "metadata": {},
     "output_type": "execute_result"
    }
   ],
   "source": [
    "df_aerolineas.head(3)"
   ]
  },
  {
   "cell_type": "code",
   "execution_count": 307,
   "id": "4665bf0c-8619-4c98-adce-d6703afc8553",
   "metadata": {},
   "outputs": [],
   "source": [
    "missing_airlines=[element for element in df_rutas['cod_aerolinea'] if element not in df_aerolineas['cod_aerolinea'].values]"
   ]
  },
  {
   "cell_type": "code",
   "execution_count": 308,
   "id": "7953115d-0786-46d0-b980-a896651238b7",
   "metadata": {},
   "outputs": [
    {
     "data": {
      "text/plain": [
       "['20410']"
      ]
     },
     "execution_count": 308,
     "metadata": {},
     "output_type": "execute_result"
    }
   ],
   "source": [
    "missing_airlines"
   ]
  },
  {
   "cell_type": "code",
   "execution_count": 311,
   "id": "4c099a92-1a72-4d0c-8c96-7058b575c080",
   "metadata": {},
   "outputs": [],
   "source": [
    "index=df_rutas[df_rutas['cod_aerolinea'].isin(missing_airlines)].index"
   ]
  },
  {
   "cell_type": "code",
   "execution_count": 316,
   "id": "55cbd7ad-d0cd-4d50-bf96-24379be189c0",
   "metadata": {},
   "outputs": [],
   "source": [
    "df_rutas.iloc[index,3]='Z9999'"
   ]
  },
  {
   "cell_type": "code",
   "execution_count": 326,
   "id": "f3c5c343-4551-4e87-964f-7376d24e5c99",
   "metadata": {},
   "outputs": [
    {
     "data": {
      "text/plain": [
       "cod_ruta               int64\n",
       "cod_aeropuerto_ori    object\n",
       "cod_aeropuerto_des    object\n",
       "cod_aerolinea         object\n",
       "equipamiento          object\n",
       "dtype: object"
      ]
     },
     "execution_count": 326,
     "metadata": {},
     "output_type": "execute_result"
    }
   ],
   "source": [
    "df_rutas.dtypes"
   ]
  },
  {
   "cell_type": "markdown",
   "id": "48ae97f6-fd81-46bb-bf4e-feac1883100b",
   "metadata": {},
   "source": [
    "### Format the table as the destination table in Snowflake"
   ]
  },
  {
   "cell_type": "code",
   "execution_count": 323,
   "id": "ec8dec16-ff63-4541-985e-54c85bb197e1",
   "metadata": {},
   "outputs": [],
   "source": [
    "df_rutas_final=df_rutas.iloc[:,[0,3,1,2]]"
   ]
  },
  {
   "cell_type": "code",
   "execution_count": 324,
   "id": "d966c2ce-9906-40a3-b61f-baa6e8f9897a",
   "metadata": {},
   "outputs": [
    {
     "data": {
      "text/html": [
       "<div>\n",
       "<style scoped>\n",
       "    .dataframe tbody tr th:only-of-type {\n",
       "        vertical-align: middle;\n",
       "    }\n",
       "\n",
       "    .dataframe tbody tr th {\n",
       "        vertical-align: top;\n",
       "    }\n",
       "\n",
       "    .dataframe thead th {\n",
       "        text-align: right;\n",
       "    }\n",
       "</style>\n",
       "<table border=\"1\" class=\"dataframe\">\n",
       "  <thead>\n",
       "    <tr style=\"text-align: right;\">\n",
       "      <th></th>\n",
       "      <th>cod_ruta</th>\n",
       "      <th>cod_aerolinea</th>\n",
       "      <th>cod_aeropuerto_ori</th>\n",
       "      <th>cod_aeropuerto_des</th>\n",
       "    </tr>\n",
       "  </thead>\n",
       "  <tbody>\n",
       "    <tr>\n",
       "      <th>0</th>\n",
       "      <td>1</td>\n",
       "      <td>00410</td>\n",
       "      <td>2965</td>\n",
       "      <td>2990</td>\n",
       "    </tr>\n",
       "    <tr>\n",
       "      <th>1</th>\n",
       "      <td>2</td>\n",
       "      <td>00410</td>\n",
       "      <td>2966</td>\n",
       "      <td>2990</td>\n",
       "    </tr>\n",
       "    <tr>\n",
       "      <th>2</th>\n",
       "      <td>3</td>\n",
       "      <td>00410</td>\n",
       "      <td>2966</td>\n",
       "      <td>2962</td>\n",
       "    </tr>\n",
       "    <tr>\n",
       "      <th>3</th>\n",
       "      <td>4</td>\n",
       "      <td>00410</td>\n",
       "      <td>2968</td>\n",
       "      <td>2990</td>\n",
       "    </tr>\n",
       "    <tr>\n",
       "      <th>4</th>\n",
       "      <td>5</td>\n",
       "      <td>00410</td>\n",
       "      <td>2968</td>\n",
       "      <td>4078</td>\n",
       "    </tr>\n",
       "    <tr>\n",
       "      <th>...</th>\n",
       "      <td>...</td>\n",
       "      <td>...</td>\n",
       "      <td>...</td>\n",
       "      <td>...</td>\n",
       "    </tr>\n",
       "    <tr>\n",
       "      <th>67658</th>\n",
       "      <td>67659</td>\n",
       "      <td>04178</td>\n",
       "      <td>6334</td>\n",
       "      <td>3341</td>\n",
       "    </tr>\n",
       "    <tr>\n",
       "      <th>67659</th>\n",
       "      <td>67660</td>\n",
       "      <td>19016</td>\n",
       "      <td>4029</td>\n",
       "      <td>2912</td>\n",
       "    </tr>\n",
       "    <tr>\n",
       "      <th>67660</th>\n",
       "      <td>67661</td>\n",
       "      <td>19016</td>\n",
       "      <td>2912</td>\n",
       "      <td>4029</td>\n",
       "    </tr>\n",
       "    <tr>\n",
       "      <th>67661</th>\n",
       "      <td>67662</td>\n",
       "      <td>19016</td>\n",
       "      <td>2912</td>\n",
       "      <td>2913</td>\n",
       "    </tr>\n",
       "    <tr>\n",
       "      <th>67662</th>\n",
       "      <td>67663</td>\n",
       "      <td>19016</td>\n",
       "      <td>2913</td>\n",
       "      <td>2912</td>\n",
       "    </tr>\n",
       "  </tbody>\n",
       "</table>\n",
       "<p>67663 rows × 4 columns</p>\n",
       "</div>"
      ],
      "text/plain": [
       "       cod_ruta cod_aerolinea cod_aeropuerto_ori cod_aeropuerto_des\n",
       "0             1         00410               2965               2990\n",
       "1             2         00410               2966               2990\n",
       "2             3         00410               2966               2962\n",
       "3             4         00410               2968               2990\n",
       "4             5         00410               2968               4078\n",
       "...         ...           ...                ...                ...\n",
       "67658     67659         04178               6334               3341\n",
       "67659     67660         19016               4029               2912\n",
       "67660     67661         19016               2912               4029\n",
       "67661     67662         19016               2912               2913\n",
       "67662     67663         19016               2913               2912\n",
       "\n",
       "[67663 rows x 4 columns]"
      ]
     },
     "execution_count": 324,
     "metadata": {},
     "output_type": "execute_result"
    }
   ],
   "source": [
    "df_rutas_final"
   ]
  },
  {
   "cell_type": "code",
   "execution_count": 328,
   "id": "23d1656d-0b3f-469a-8686-a8d370bfa9de",
   "metadata": {},
   "outputs": [
    {
     "data": {
      "text/plain": [
       "cod_ruta               int64\n",
       "cod_aerolinea         object\n",
       "cod_aeropuerto_ori    object\n",
       "cod_aeropuerto_des    object\n",
       "dtype: object"
      ]
     },
     "execution_count": 328,
     "metadata": {},
     "output_type": "execute_result"
    }
   ],
   "source": [
    "df_rutas_final.dtypes"
   ]
  },
  {
   "cell_type": "markdown",
   "id": "06d02b25-1169-484d-8b79-7e31fcfe139a",
   "metadata": {},
   "source": [
    "### Load the data in Snowflake"
   ]
  },
  {
   "cell_type": "code",
   "execution_count": 331,
   "id": "df148677-74b0-4154-b08f-392042a148de",
   "metadata": {},
   "outputs": [
    {
     "name": "stdout",
     "output_type": "stream",
     "text": [
      "Insertando datos\n",
      "Error en el volcado: (snowflake.connector.errors.ProgrammingError) 001795 (42601): SQL compilation error: error line 1 at position 87\n",
      "maximum number of expressions in a list exceeded, expected at most 16,384, got 67,663\n",
      "[SQL: INSERT INTO hc_rutas (cod_ruta, cod_aerolinea, cod_aeropuerto_ori, cod_aeropuerto_des) VALUES (%(cod_ruta)s, %(cod_aerolinea)s, %(cod_aeropuerto_ori)s, %(cod_aeropuerto_des)s)]\n",
      "[parameters: ({'cod_ruta': 1, 'cod_aerolinea': '00410', 'cod_aeropuerto_ori': '2965', 'cod_aeropuerto_des': '2990'}, {'cod_ruta': 2, 'cod_aerolinea': '00410', 'cod_aeropuerto_ori': '2966', 'cod_aeropuerto_des': '2990'}, {'cod_ruta': 3, 'cod_aerolinea': '00410', 'cod_aeropuerto_ori': '2966', 'cod_aeropuerto_des': '2962'}, {'cod_ruta': 4, 'cod_aerolinea': '00410', 'cod_aeropuerto_ori': '2968', 'cod_aeropuerto_des': '2990'}, {'cod_ruta': 5, 'cod_aerolinea': '00410', 'cod_aeropuerto_ori': '2968', 'cod_aeropuerto_des': '4078'}, {'cod_ruta': 6, 'cod_aerolinea': '00410', 'cod_aeropuerto_ori': '4029', 'cod_aeropuerto_des': '2990'}, {'cod_ruta': 7, 'cod_aerolinea': '00410', 'cod_aeropuerto_ori': '4029', 'cod_aeropuerto_des': '6969'}, {'cod_ruta': 8, 'cod_aerolinea': '00410', 'cod_aeropuerto_ori': '4029', 'cod_aeropuerto_des': 'Z999'}  ... displaying 10 of 67663 total bound parameter sets ...  {'cod_ruta': 67662, 'cod_aerolinea': '19016', 'cod_aeropuerto_ori': '2912', 'cod_aeropuerto_des': '2913'}, {'cod_ruta': 67663, 'cod_aerolinea': '19016', 'cod_aeropuerto_ori': '2913', 'cod_aeropuerto_des': '2912'})]\n",
      "(Background on this error at: https://sqlalche.me/e/14/f405)\n"
     ]
    }
   ],
   "source": [
    "try:\n",
    "    print('Insertando datos')\n",
    "    df_rutas_final.to_sql('hc_rutas', con = conn, if_exists = 'replace', index=False)\n",
    "    rows = len(df_rutas_final)\n",
    "    print(\"Volcado correcto. Filas cargadas: \" + str(rows) )\n",
    "except Exception as e:\n",
    "    print(\"Error en el volcado: \" + str(e))"
   ]
  },
  {
   "cell_type": "code",
   "execution_count": null,
   "id": "294f1142-4193-4fe3-9420-057d4463184b",
   "metadata": {},
   "outputs": [],
   "source": []
  }
 ],
 "metadata": {
  "kernelspec": {
   "display_name": "Python 3 (ipykernel)",
   "language": "python",
   "name": "python3"
  },
  "language_info": {
   "codemirror_mode": {
    "name": "ipython",
    "version": 3
   },
   "file_extension": ".py",
   "mimetype": "text/x-python",
   "name": "python",
   "nbconvert_exporter": "python",
   "pygments_lexer": "ipython3",
   "version": "3.10.3"
  }
 },
 "nbformat": 4,
 "nbformat_minor": 5
}
